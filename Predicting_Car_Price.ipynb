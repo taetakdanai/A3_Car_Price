{
 "cells": [
  {
   "cell_type": "markdown",
   "id": "ba4e081c",
   "metadata": {},
   "source": [
    "## Import Library"
   ]
  },
  {
   "cell_type": "code",
   "execution_count": 999,
   "id": "1c3888a1",
   "metadata": {},
   "outputs": [],
   "source": [
    "#Import Library\n",
    "import numpy as np\n",
    "import pandas as pd\n",
    "import seaborn as sns\n",
    "import matplotlib.pyplot as plt \n",
    "import warnings\n",
    "import matplotlib\n",
    "df = pd.read_csv('Cars.csv')\n"
   ]
  },
  {
   "cell_type": "markdown",
   "id": "e37cfa7c",
   "metadata": {},
   "source": [
    "## Load Data"
   ]
  },
  {
   "cell_type": "code",
   "execution_count": 1000,
   "id": "e154f23a",
   "metadata": {},
   "outputs": [
    {
     "data": {
      "text/html": [
       "<div>\n",
       "<style scoped>\n",
       "    .dataframe tbody tr th:only-of-type {\n",
       "        vertical-align: middle;\n",
       "    }\n",
       "\n",
       "    .dataframe tbody tr th {\n",
       "        vertical-align: top;\n",
       "    }\n",
       "\n",
       "    .dataframe thead th {\n",
       "        text-align: right;\n",
       "    }\n",
       "</style>\n",
       "<table border=\"1\" class=\"dataframe\">\n",
       "  <thead>\n",
       "    <tr style=\"text-align: right;\">\n",
       "      <th></th>\n",
       "      <th>name</th>\n",
       "      <th>year</th>\n",
       "      <th>selling_price</th>\n",
       "      <th>km_driven</th>\n",
       "      <th>fuel</th>\n",
       "      <th>seller_type</th>\n",
       "      <th>transmission</th>\n",
       "      <th>owner</th>\n",
       "      <th>mileage</th>\n",
       "      <th>engine</th>\n",
       "      <th>max_power</th>\n",
       "      <th>torque</th>\n",
       "      <th>seats</th>\n",
       "    </tr>\n",
       "  </thead>\n",
       "  <tbody>\n",
       "    <tr>\n",
       "      <th>0</th>\n",
       "      <td>Maruti Swift Dzire VDI</td>\n",
       "      <td>2014</td>\n",
       "      <td>450000</td>\n",
       "      <td>145500</td>\n",
       "      <td>Diesel</td>\n",
       "      <td>Individual</td>\n",
       "      <td>Manual</td>\n",
       "      <td>First Owner</td>\n",
       "      <td>23.4 kmpl</td>\n",
       "      <td>1248 CC</td>\n",
       "      <td>74 bhp</td>\n",
       "      <td>190Nm@ 2000rpm</td>\n",
       "      <td>5.0</td>\n",
       "    </tr>\n",
       "    <tr>\n",
       "      <th>1</th>\n",
       "      <td>Skoda Rapid 1.5 TDI Ambition</td>\n",
       "      <td>2014</td>\n",
       "      <td>370000</td>\n",
       "      <td>120000</td>\n",
       "      <td>Diesel</td>\n",
       "      <td>Individual</td>\n",
       "      <td>Manual</td>\n",
       "      <td>Second Owner</td>\n",
       "      <td>21.14 kmpl</td>\n",
       "      <td>1498 CC</td>\n",
       "      <td>103.52 bhp</td>\n",
       "      <td>250Nm@ 1500-2500rpm</td>\n",
       "      <td>5.0</td>\n",
       "    </tr>\n",
       "    <tr>\n",
       "      <th>2</th>\n",
       "      <td>Honda City 2017-2020 EXi</td>\n",
       "      <td>2006</td>\n",
       "      <td>158000</td>\n",
       "      <td>140000</td>\n",
       "      <td>Petrol</td>\n",
       "      <td>Individual</td>\n",
       "      <td>Manual</td>\n",
       "      <td>Third Owner</td>\n",
       "      <td>17.7 kmpl</td>\n",
       "      <td>1497 CC</td>\n",
       "      <td>78 bhp</td>\n",
       "      <td>12.7@ 2,700(kgm@ rpm)</td>\n",
       "      <td>5.0</td>\n",
       "    </tr>\n",
       "    <tr>\n",
       "      <th>3</th>\n",
       "      <td>Hyundai i20 Sportz Diesel</td>\n",
       "      <td>2010</td>\n",
       "      <td>225000</td>\n",
       "      <td>127000</td>\n",
       "      <td>Diesel</td>\n",
       "      <td>Individual</td>\n",
       "      <td>Manual</td>\n",
       "      <td>First Owner</td>\n",
       "      <td>23.0 kmpl</td>\n",
       "      <td>1396 CC</td>\n",
       "      <td>90 bhp</td>\n",
       "      <td>22.4 kgm at 1750-2750rpm</td>\n",
       "      <td>5.0</td>\n",
       "    </tr>\n",
       "    <tr>\n",
       "      <th>4</th>\n",
       "      <td>Maruti Swift VXI BSIII</td>\n",
       "      <td>2007</td>\n",
       "      <td>130000</td>\n",
       "      <td>120000</td>\n",
       "      <td>Petrol</td>\n",
       "      <td>Individual</td>\n",
       "      <td>Manual</td>\n",
       "      <td>First Owner</td>\n",
       "      <td>16.1 kmpl</td>\n",
       "      <td>1298 CC</td>\n",
       "      <td>88.2 bhp</td>\n",
       "      <td>11.5@ 4,500(kgm@ rpm)</td>\n",
       "      <td>5.0</td>\n",
       "    </tr>\n",
       "  </tbody>\n",
       "</table>\n",
       "</div>"
      ],
      "text/plain": [
       "                           name  year  selling_price  km_driven    fuel  \\\n",
       "0        Maruti Swift Dzire VDI  2014         450000     145500  Diesel   \n",
       "1  Skoda Rapid 1.5 TDI Ambition  2014         370000     120000  Diesel   \n",
       "2      Honda City 2017-2020 EXi  2006         158000     140000  Petrol   \n",
       "3     Hyundai i20 Sportz Diesel  2010         225000     127000  Diesel   \n",
       "4        Maruti Swift VXI BSIII  2007         130000     120000  Petrol   \n",
       "\n",
       "  seller_type transmission         owner     mileage   engine   max_power  \\\n",
       "0  Individual       Manual   First Owner   23.4 kmpl  1248 CC      74 bhp   \n",
       "1  Individual       Manual  Second Owner  21.14 kmpl  1498 CC  103.52 bhp   \n",
       "2  Individual       Manual   Third Owner   17.7 kmpl  1497 CC      78 bhp   \n",
       "3  Individual       Manual   First Owner   23.0 kmpl  1396 CC      90 bhp   \n",
       "4  Individual       Manual   First Owner   16.1 kmpl  1298 CC    88.2 bhp   \n",
       "\n",
       "                     torque  seats  \n",
       "0            190Nm@ 2000rpm    5.0  \n",
       "1       250Nm@ 1500-2500rpm    5.0  \n",
       "2     12.7@ 2,700(kgm@ rpm)    5.0  \n",
       "3  22.4 kgm at 1750-2750rpm    5.0  \n",
       "4     11.5@ 4,500(kgm@ rpm)    5.0  "
      ]
     },
     "execution_count": 1000,
     "metadata": {},
     "output_type": "execute_result"
    }
   ],
   "source": [
    "df.head()"
   ]
  },
  {
   "cell_type": "code",
   "execution_count": 1001,
   "id": "ba4915c7",
   "metadata": {},
   "outputs": [
    {
     "data": {
      "text/plain": [
       "(8128, 13)"
      ]
     },
     "execution_count": 1001,
     "metadata": {},
     "output_type": "execute_result"
    }
   ],
   "source": [
    "#Check amount of data\n",
    "df.shape"
   ]
  },
  {
   "cell_type": "code",
   "execution_count": 1002,
   "id": "0af1c2e8",
   "metadata": {},
   "outputs": [
    {
     "data": {
      "text/html": [
       "<div>\n",
       "<style scoped>\n",
       "    .dataframe tbody tr th:only-of-type {\n",
       "        vertical-align: middle;\n",
       "    }\n",
       "\n",
       "    .dataframe tbody tr th {\n",
       "        vertical-align: top;\n",
       "    }\n",
       "\n",
       "    .dataframe thead th {\n",
       "        text-align: right;\n",
       "    }\n",
       "</style>\n",
       "<table border=\"1\" class=\"dataframe\">\n",
       "  <thead>\n",
       "    <tr style=\"text-align: right;\">\n",
       "      <th></th>\n",
       "      <th>year</th>\n",
       "      <th>selling_price</th>\n",
       "      <th>km_driven</th>\n",
       "      <th>seats</th>\n",
       "    </tr>\n",
       "  </thead>\n",
       "  <tbody>\n",
       "    <tr>\n",
       "      <th>count</th>\n",
       "      <td>8128.000000</td>\n",
       "      <td>8.128000e+03</td>\n",
       "      <td>8.128000e+03</td>\n",
       "      <td>7907.000000</td>\n",
       "    </tr>\n",
       "    <tr>\n",
       "      <th>mean</th>\n",
       "      <td>2013.804011</td>\n",
       "      <td>6.382718e+05</td>\n",
       "      <td>6.981951e+04</td>\n",
       "      <td>5.416719</td>\n",
       "    </tr>\n",
       "    <tr>\n",
       "      <th>std</th>\n",
       "      <td>4.044249</td>\n",
       "      <td>8.062534e+05</td>\n",
       "      <td>5.655055e+04</td>\n",
       "      <td>0.959588</td>\n",
       "    </tr>\n",
       "    <tr>\n",
       "      <th>min</th>\n",
       "      <td>1983.000000</td>\n",
       "      <td>2.999900e+04</td>\n",
       "      <td>1.000000e+00</td>\n",
       "      <td>2.000000</td>\n",
       "    </tr>\n",
       "    <tr>\n",
       "      <th>25%</th>\n",
       "      <td>2011.000000</td>\n",
       "      <td>2.549990e+05</td>\n",
       "      <td>3.500000e+04</td>\n",
       "      <td>5.000000</td>\n",
       "    </tr>\n",
       "    <tr>\n",
       "      <th>50%</th>\n",
       "      <td>2015.000000</td>\n",
       "      <td>4.500000e+05</td>\n",
       "      <td>6.000000e+04</td>\n",
       "      <td>5.000000</td>\n",
       "    </tr>\n",
       "    <tr>\n",
       "      <th>75%</th>\n",
       "      <td>2017.000000</td>\n",
       "      <td>6.750000e+05</td>\n",
       "      <td>9.800000e+04</td>\n",
       "      <td>5.000000</td>\n",
       "    </tr>\n",
       "    <tr>\n",
       "      <th>max</th>\n",
       "      <td>2020.000000</td>\n",
       "      <td>1.000000e+07</td>\n",
       "      <td>2.360457e+06</td>\n",
       "      <td>14.000000</td>\n",
       "    </tr>\n",
       "  </tbody>\n",
       "</table>\n",
       "</div>"
      ],
      "text/plain": [
       "              year  selling_price     km_driven        seats\n",
       "count  8128.000000   8.128000e+03  8.128000e+03  7907.000000\n",
       "mean   2013.804011   6.382718e+05  6.981951e+04     5.416719\n",
       "std       4.044249   8.062534e+05  5.655055e+04     0.959588\n",
       "min    1983.000000   2.999900e+04  1.000000e+00     2.000000\n",
       "25%    2011.000000   2.549990e+05  3.500000e+04     5.000000\n",
       "50%    2015.000000   4.500000e+05  6.000000e+04     5.000000\n",
       "75%    2017.000000   6.750000e+05  9.800000e+04     5.000000\n",
       "max    2020.000000   1.000000e+07  2.360457e+06    14.000000"
      ]
     },
     "execution_count": 1002,
     "metadata": {},
     "output_type": "execute_result"
    }
   ],
   "source": [
    "df.describe()"
   ]
  },
  {
   "cell_type": "code",
   "execution_count": 1003,
   "id": "0fe82440",
   "metadata": {},
   "outputs": [
    {
     "name": "stdout",
     "output_type": "stream",
     "text": [
      "<class 'pandas.core.frame.DataFrame'>\n",
      "RangeIndex: 8128 entries, 0 to 8127\n",
      "Data columns (total 13 columns):\n",
      " #   Column         Non-Null Count  Dtype  \n",
      "---  ------         --------------  -----  \n",
      " 0   name           8128 non-null   object \n",
      " 1   year           8128 non-null   int64  \n",
      " 2   selling_price  8128 non-null   int64  \n",
      " 3   km_driven      8128 non-null   int64  \n",
      " 4   fuel           8128 non-null   object \n",
      " 5   seller_type    8128 non-null   object \n",
      " 6   transmission   8128 non-null   object \n",
      " 7   owner          8128 non-null   object \n",
      " 8   mileage        7907 non-null   object \n",
      " 9   engine         7907 non-null   object \n",
      " 10  max_power      7913 non-null   object \n",
      " 11  torque         7906 non-null   object \n",
      " 12  seats          7907 non-null   float64\n",
      "dtypes: float64(1), int64(3), object(9)\n",
      "memory usage: 825.6+ KB\n"
     ]
    }
   ],
   "source": [
    "df.info()"
   ]
  },
  {
   "cell_type": "code",
   "execution_count": 1004,
   "id": "f1d0aad2",
   "metadata": {},
   "outputs": [
    {
     "data": {
      "text/plain": [
       "Index(['name', 'year', 'selling_price', 'km_driven', 'fuel', 'seller_type',\n",
       "       'transmission', 'owner', 'mileage', 'engine', 'max_power', 'torque',\n",
       "       'seats'],\n",
       "      dtype='object')"
      ]
     },
     "execution_count": 1004,
     "metadata": {},
     "output_type": "execute_result"
    }
   ],
   "source": [
    "df.columns"
   ]
  },
  {
   "cell_type": "markdown",
   "id": "78a51d00",
   "metadata": {},
   "source": [
    "## Feature Mapping"
   ]
  },
  {
   "cell_type": "code",
   "execution_count": 1005,
   "id": "e595d251",
   "metadata": {},
   "outputs": [
    {
     "data": {
      "text/plain": [
       "array([1, 2, 3, 4, 5])"
      ]
     },
     "execution_count": 1005,
     "metadata": {},
     "output_type": "execute_result"
    }
   ],
   "source": [
    "#Data Mapping, First Owner = 1, ... , Test Drive Car = 5\n",
    "df[\"owner\"].unique()\n",
    "\n",
    "mapping = {\"First Owner\" : 1, \"Second Owner\" : 2, \"Third Owner\" : 3, \"Fourth & Above Owner\" : 4, \"Test Drive Car\" : 5}\n",
    "\n",
    "df[\"owner\"] = df[\"owner\"].map(mapping)\n",
    "\n",
    "df[\"owner\"].unique()"
   ]
  },
  {
   "cell_type": "code",
   "execution_count": 1006,
   "id": "65f40f03",
   "metadata": {},
   "outputs": [],
   "source": [
    "df = df[~df[\"fuel\"].isin([\"CNG\", \"LPG\"])]"
   ]
  },
  {
   "cell_type": "code",
   "execution_count": 1007,
   "id": "7b11a3ed",
   "metadata": {},
   "outputs": [],
   "source": [
    "df[\"mileage\"] = df[\"mileage\"].str.split().str[0]\n",
    "\n",
    "df[\"mileage\"] = df[\"mileage\"].astype(float)"
   ]
  },
  {
   "cell_type": "code",
   "execution_count": 1008,
   "id": "fe8cface",
   "metadata": {},
   "outputs": [],
   "source": [
    "df[\"engine\"] = df[\"engine\"].str.split().str[0]\n",
    "\n",
    "df[\"engine\"] = df[\"engine\"].astype(float)"
   ]
  },
  {
   "cell_type": "code",
   "execution_count": 1009,
   "id": "3c1a56eb",
   "metadata": {},
   "outputs": [],
   "source": [
    "df[\"max_power\"] = df[\"max_power\"].str.split().str[0]\n",
    "\n",
    "df[\"max_power\"] = df[\"max_power\"].astype(float)"
   ]
  },
  {
   "cell_type": "code",
   "execution_count": 1010,
   "id": "b6179570",
   "metadata": {},
   "outputs": [],
   "source": [
    "df[\"name\"] = df[\"name\"].str.split(\" \").str[0]"
   ]
  },
  {
   "cell_type": "code",
   "execution_count": 1011,
   "id": "03995424",
   "metadata": {},
   "outputs": [],
   "source": [
    "df = df.drop(columns=['torque'])"
   ]
  },
  {
   "cell_type": "code",
   "execution_count": 1012,
   "id": "9a948000",
   "metadata": {},
   "outputs": [],
   "source": [
    "df = df[df['owner'] != 5]"
   ]
  },
  {
   "cell_type": "code",
   "execution_count": 1013,
   "id": "751afb96",
   "metadata": {},
   "outputs": [],
   "source": [
    "y = np.log(df['selling_price'])"
   ]
  },
  {
   "cell_type": "code",
   "execution_count": 1014,
   "id": "84ded19f",
   "metadata": {},
   "outputs": [
    {
     "data": {
      "text/html": [
       "<div>\n",
       "<style scoped>\n",
       "    .dataframe tbody tr th:only-of-type {\n",
       "        vertical-align: middle;\n",
       "    }\n",
       "\n",
       "    .dataframe tbody tr th {\n",
       "        vertical-align: top;\n",
       "    }\n",
       "\n",
       "    .dataframe thead th {\n",
       "        text-align: right;\n",
       "    }\n",
       "</style>\n",
       "<table border=\"1\" class=\"dataframe\">\n",
       "  <thead>\n",
       "    <tr style=\"text-align: right;\">\n",
       "      <th></th>\n",
       "      <th>name</th>\n",
       "      <th>year</th>\n",
       "      <th>selling_price</th>\n",
       "      <th>km_driven</th>\n",
       "      <th>fuel</th>\n",
       "      <th>seller_type</th>\n",
       "      <th>transmission</th>\n",
       "      <th>owner</th>\n",
       "      <th>mileage</th>\n",
       "      <th>engine</th>\n",
       "      <th>max_power</th>\n",
       "      <th>seats</th>\n",
       "    </tr>\n",
       "  </thead>\n",
       "  <tbody>\n",
       "    <tr>\n",
       "      <th>0</th>\n",
       "      <td>Maruti</td>\n",
       "      <td>2014</td>\n",
       "      <td>450000</td>\n",
       "      <td>145500</td>\n",
       "      <td>Diesel</td>\n",
       "      <td>Individual</td>\n",
       "      <td>Manual</td>\n",
       "      <td>1</td>\n",
       "      <td>23.40</td>\n",
       "      <td>1248.0</td>\n",
       "      <td>74.00</td>\n",
       "      <td>5.0</td>\n",
       "    </tr>\n",
       "    <tr>\n",
       "      <th>1</th>\n",
       "      <td>Skoda</td>\n",
       "      <td>2014</td>\n",
       "      <td>370000</td>\n",
       "      <td>120000</td>\n",
       "      <td>Diesel</td>\n",
       "      <td>Individual</td>\n",
       "      <td>Manual</td>\n",
       "      <td>2</td>\n",
       "      <td>21.14</td>\n",
       "      <td>1498.0</td>\n",
       "      <td>103.52</td>\n",
       "      <td>5.0</td>\n",
       "    </tr>\n",
       "    <tr>\n",
       "      <th>2</th>\n",
       "      <td>Honda</td>\n",
       "      <td>2006</td>\n",
       "      <td>158000</td>\n",
       "      <td>140000</td>\n",
       "      <td>Petrol</td>\n",
       "      <td>Individual</td>\n",
       "      <td>Manual</td>\n",
       "      <td>3</td>\n",
       "      <td>17.70</td>\n",
       "      <td>1497.0</td>\n",
       "      <td>78.00</td>\n",
       "      <td>5.0</td>\n",
       "    </tr>\n",
       "    <tr>\n",
       "      <th>3</th>\n",
       "      <td>Hyundai</td>\n",
       "      <td>2010</td>\n",
       "      <td>225000</td>\n",
       "      <td>127000</td>\n",
       "      <td>Diesel</td>\n",
       "      <td>Individual</td>\n",
       "      <td>Manual</td>\n",
       "      <td>1</td>\n",
       "      <td>23.00</td>\n",
       "      <td>1396.0</td>\n",
       "      <td>90.00</td>\n",
       "      <td>5.0</td>\n",
       "    </tr>\n",
       "    <tr>\n",
       "      <th>4</th>\n",
       "      <td>Maruti</td>\n",
       "      <td>2007</td>\n",
       "      <td>130000</td>\n",
       "      <td>120000</td>\n",
       "      <td>Petrol</td>\n",
       "      <td>Individual</td>\n",
       "      <td>Manual</td>\n",
       "      <td>1</td>\n",
       "      <td>16.10</td>\n",
       "      <td>1298.0</td>\n",
       "      <td>88.20</td>\n",
       "      <td>5.0</td>\n",
       "    </tr>\n",
       "  </tbody>\n",
       "</table>\n",
       "</div>"
      ],
      "text/plain": [
       "      name  year  selling_price  km_driven    fuel seller_type transmission  \\\n",
       "0   Maruti  2014         450000     145500  Diesel  Individual       Manual   \n",
       "1    Skoda  2014         370000     120000  Diesel  Individual       Manual   \n",
       "2    Honda  2006         158000     140000  Petrol  Individual       Manual   \n",
       "3  Hyundai  2010         225000     127000  Diesel  Individual       Manual   \n",
       "4   Maruti  2007         130000     120000  Petrol  Individual       Manual   \n",
       "\n",
       "   owner  mileage  engine  max_power  seats  \n",
       "0      1    23.40  1248.0      74.00    5.0  \n",
       "1      2    21.14  1498.0     103.52    5.0  \n",
       "2      3    17.70  1497.0      78.00    5.0  \n",
       "3      1    23.00  1396.0      90.00    5.0  \n",
       "4      1    16.10  1298.0      88.20    5.0  "
      ]
     },
     "execution_count": 1014,
     "metadata": {},
     "output_type": "execute_result"
    }
   ],
   "source": [
    "df.head()"
   ]
  },
  {
   "cell_type": "code",
   "execution_count": 1015,
   "id": "d9da676d",
   "metadata": {},
   "outputs": [
    {
     "data": {
      "text/plain": [
       "Index(['name', 'year', 'selling_price', 'km_driven', 'fuel', 'seller_type',\n",
       "       'transmission', 'owner', 'mileage', 'engine', 'max_power', 'seats'],\n",
       "      dtype='object')"
      ]
     },
     "execution_count": 1015,
     "metadata": {},
     "output_type": "execute_result"
    }
   ],
   "source": [
    "df.columns"
   ]
  },
  {
   "cell_type": "code",
   "execution_count": 1016,
   "id": "bb01b01f",
   "metadata": {},
   "outputs": [
    {
     "data": {
      "text/plain": [
       "Index(['brand', 'year', 'selling_price', 'km_driven', 'fuel', 'seller_type',\n",
       "       'transmission', 'owner', 'mileage', 'engine', 'max_power', 'seats'],\n",
       "      dtype='object')"
      ]
     },
     "execution_count": 1016,
     "metadata": {},
     "output_type": "execute_result"
    }
   ],
   "source": [
    "#renaming column 'name' to 'brand'\n",
    "df.rename(columns= {\n",
    "    'name': 'brand'}, inplace= True)\n",
    "\n",
    "df.columns"
   ]
  },
  {
   "cell_type": "markdown",
   "id": "af06e260",
   "metadata": {},
   "source": [
    "## Univariate Analysis"
   ]
  },
  {
   "cell_type": "code",
   "execution_count": 1017,
   "id": "20ee0939",
   "metadata": {},
   "outputs": [
    {
     "data": {
      "text/plain": [
       "<Axes: xlabel='owner', ylabel='count'>"
      ]
     },
     "execution_count": 1017,
     "metadata": {},
     "output_type": "execute_result"
    },
    {
     "data": {
      "image/png": "[encoded data removed]",
      "text/plain": [
       "<Figure size 640x480 with 1 Axes>"
      ]
     },
     "metadata": {},
     "output_type": "display_data"
    }
   ],
   "source": [
    "#How many different owners are there?\n",
    "sns.countplot(data = df, x = 'owner')"
   ]
  },
  {
   "cell_type": "code",
   "execution_count": 1018,
   "id": "df76342e",
   "metadata": {},
   "outputs": [
    {
     "data": {
      "text/plain": [
       "<seaborn.axisgrid.FacetGrid at 0x1b790f8d6d0>"
      ]
     },
     "execution_count": 1018,
     "metadata": {},
     "output_type": "execute_result"
    },
    {
     "data": {
      "image/png": "[encoded data removed]",
      "text/plain": [
       "<Figure size 500x500 with 1 Axes>"
      ]
     },
     "metadata": {},
     "output_type": "display_data"
    }
   ],
   "source": [
    "sns.displot(data = df, x = 'fuel')"
   ]
  },
  {
   "cell_type": "code",
   "execution_count": 1019,
   "id": "672fa4c6",
   "metadata": {},
   "outputs": [
    {
     "data": {
      "text/plain": [
       "Text(0.5, 0, 'Fuel')"
      ]
     },
     "execution_count": 1019,
     "metadata": {},
     "output_type": "execute_result"
    },
    {
     "data": {
      "image/png": "[encoded data removed]",
      "text/plain": [
       "<Figure size 640x480 with 1 Axes>"
      ]
     },
     "metadata": {},
     "output_type": "display_data"
    }
   ],
   "source": [
    "#Multivariate Analysis\n",
    "sns.boxplot(x = df[\"fuel\"], y = df[\"mileage\"]);\n",
    "plt.ylabel(\"Mileage\")\n",
    "plt.xlabel(\"Fuel\")"
   ]
  },
  {
   "cell_type": "code",
   "execution_count": 1020,
   "id": "adc6a605",
   "metadata": {},
   "outputs": [
    {
     "data": {
      "text/plain": [
       "<Axes: xlabel='mileage', ylabel='selling_price'>"
      ]
     },
     "execution_count": 1020,
     "metadata": {},
     "output_type": "execute_result"
    },
    {
     "data": {
      "image/png": "[encoded data removed]",
      "text/plain": [
       "<Figure size 640x480 with 1 Axes>"
      ]
     },
     "metadata": {},
     "output_type": "display_data"
    }
   ],
   "source": [
    "sns.scatterplot(x = df['mileage'], y = df['selling_price'], hue=df['fuel'])"
   ]
  },
  {
   "cell_type": "code",
   "execution_count": 1021,
   "id": "458ec003",
   "metadata": {},
   "outputs": [],
   "source": [
    "from sklearn.preprocessing import LabelEncoder\n",
    "#do label encoding for fuel\n",
    "le = LabelEncoder()\n",
    "df['fuel'] = le.fit_transform(df['fuel'])\n",
    "\n",
    "#do label encoding for transmission\n",
    "le = LabelEncoder()\n",
    "df['transmission'] = le.fit_transform(df['transmission'])"
   ]
  },
  {
   "cell_type": "markdown",
   "id": "813059cd",
   "metadata": {},
   "source": [
    "## Heat Map"
   ]
  },
  {
   "cell_type": "code",
   "execution_count": 1022,
   "id": "0d95e76d",
   "metadata": {},
   "outputs": [
    {
     "data": {
      "text/plain": [
       "<Axes: >"
      ]
     },
     "execution_count": 1022,
     "metadata": {},
     "output_type": "execute_result"
    },
    {
     "data": {
      "image/png": "[encoded data removed]",
      "text/plain": [
       "<Figure size 1500x800 with 2 Axes>"
      ]
     },
     "metadata": {},
     "output_type": "display_data"
    }
   ],
   "source": [
    "#drop brand columns\n",
    "df = df.drop(columns=['brand'])\n",
    "\n",
    "# Drop the original 'seller_type' column if it's no longer needed\n",
    "df = df.drop(columns=['seller_type'])\n",
    "\n",
    "# Drop the original 'seats' column if it's no longer needed\n",
    "df = df.drop(columns=['seats'])\n",
    "\n",
    "# Let's check out heatmap\n",
    "plt.figure(figsize = (15,8))\n",
    "sns.heatmap(df.corr(), annot=True, cmap=\"coolwarm\")"
   ]
  },
  {
   "cell_type": "markdown",
   "id": "2d9fe21a",
   "metadata": {},
   "source": [
    "## Null Values"
   ]
  },
  {
   "cell_type": "code",
   "execution_count": 1023,
   "id": "51359512",
   "metadata": {},
   "outputs": [
    {
     "data": {
      "text/plain": [
       "year               0\n",
       "selling_price      0\n",
       "km_driven          0\n",
       "fuel               0\n",
       "transmission       0\n",
       "owner              0\n",
       "mileage          214\n",
       "engine           214\n",
       "max_power        208\n",
       "dtype: int64"
      ]
     },
     "execution_count": 1023,
     "metadata": {},
     "output_type": "execute_result"
    }
   ],
   "source": [
    "#Check for Null Values\n",
    "df.isna().sum()"
   ]
  },
  {
   "cell_type": "code",
   "execution_count": 1024,
   "id": "fa13bafd",
   "metadata": {},
   "outputs": [
    {
     "data": {
      "text/plain": [
       "<seaborn.axisgrid.FacetGrid at 0x1b799508690>"
      ]
     },
     "execution_count": 1024,
     "metadata": {},
     "output_type": "execute_result"
    },
    {
     "data": {
      "image/png": "[encoded data removed]",
      "text/plain": [
       "<Figure size 500x500 with 1 Axes>"
      ]
     },
     "metadata": {},
     "output_type": "display_data"
    }
   ],
   "source": [
    "sns.displot(df.mileage)"
   ]
  },
  {
   "cell_type": "code",
   "execution_count": 1025,
   "id": "7ae883d2",
   "metadata": {},
   "outputs": [
    {
     "name": "stderr",
     "output_type": "stream",
     "text": [
      "C:\\Users\\ADMIN\\AppData\\Local\\Temp\\ipykernel_12256\\2088284964.py:3: FutureWarning: A value is trying to be set on a copy of a DataFrame or Series through chained assignment using an inplace method.\n",
      "The behavior will change in pandas 3.0. This inplace method will never work because the intermediate object on which we are setting values always behaves as a copy.\n",
      "\n",
      "For example, when doing 'df[col].method(value, inplace=True)', try using 'df.method({col: value}, inplace=True)' or df[col] = df[col].method(value) instead, to perform the operation inplace on the original object.\n",
      "\n",
      "\n",
      "  df['mileage'].fillna(df['mileage'].mean(), inplace=True)\n"
     ]
    }
   ],
   "source": [
    "#Fill out mileage with mean\n",
    "\n",
    "df['mileage'].fillna(df['mileage'].mean(), inplace=True)"
   ]
  },
  {
   "cell_type": "code",
   "execution_count": 1026,
   "id": "cd5712be",
   "metadata": {},
   "outputs": [
    {
     "data": {
      "text/plain": [
       "<seaborn.axisgrid.FacetGrid at 0x1b799397c50>"
      ]
     },
     "execution_count": 1026,
     "metadata": {},
     "output_type": "execute_result"
    },
    {
     "data": {
      "image/png": "[encoded data removed]",
      "text/plain": [
       "<Figure size 500x500 with 1 Axes>"
      ]
     },
     "metadata": {},
     "output_type": "display_data"
    }
   ],
   "source": [
    "sns.displot(df.engine)"
   ]
  },
  {
   "cell_type": "code",
   "execution_count": 1027,
   "id": "f6096414",
   "metadata": {},
   "outputs": [
    {
     "name": "stderr",
     "output_type": "stream",
     "text": [
      "C:\\Users\\ADMIN\\AppData\\Local\\Temp\\ipykernel_12256\\2990182329.py:3: FutureWarning: A value is trying to be set on a copy of a DataFrame or Series through chained assignment using an inplace method.\n",
      "The behavior will change in pandas 3.0. This inplace method will never work because the intermediate object on which we are setting values always behaves as a copy.\n",
      "\n",
      "For example, when doing 'df[col].method(value, inplace=True)', try using 'df.method({col: value}, inplace=True)' or df[col] = df[col].method(value) instead, to perform the operation inplace on the original object.\n",
      "\n",
      "\n",
      "  df['engine'].fillna(df['engine'].median(), inplace=True)\n"
     ]
    }
   ],
   "source": [
    "#Fill out engine with median\n",
    "\n",
    "df['engine'].fillna(df['engine'].median(), inplace=True)"
   ]
  },
  {
   "cell_type": "code",
   "execution_count": 1028,
   "id": "766df663",
   "metadata": {},
   "outputs": [
    {
     "data": {
      "text/plain": [
       "<seaborn.axisgrid.FacetGrid at 0x1b799994a50>"
      ]
     },
     "execution_count": 1028,
     "metadata": {},
     "output_type": "execute_result"
    },
    {
     "data": {
      "image/png": "[encoded data removed]",
      "text/plain": [
       "<Figure size 500x500 with 1 Axes>"
      ]
     },
     "metadata": {},
     "output_type": "display_data"
    }
   ],
   "source": [
    "sns.displot(df.max_power)"
   ]
  },
  {
   "cell_type": "code",
   "execution_count": 1029,
   "id": "56ab50b6",
   "metadata": {},
   "outputs": [
    {
     "name": "stderr",
     "output_type": "stream",
     "text": [
      "C:\\Users\\ADMIN\\AppData\\Local\\Temp\\ipykernel_12256\\1770132938.py:3: FutureWarning: A value is trying to be set on a copy of a DataFrame or Series through chained assignment using an inplace method.\n",
      "The behavior will change in pandas 3.0. This inplace method will never work because the intermediate object on which we are setting values always behaves as a copy.\n",
      "\n",
      "For example, when doing 'df[col].method(value, inplace=True)', try using 'df.method({col: value}, inplace=True)' or df[col] = df[col].method(value) instead, to perform the operation inplace on the original object.\n",
      "\n",
      "\n",
      "  df['max_power'].fillna(df['max_power'].median(), inplace=True)\n"
     ]
    }
   ],
   "source": [
    "#Fill out max_power with median\n",
    "\n",
    "df['max_power'].fillna(df['max_power'].median(), inplace=True)"
   ]
  },
  {
   "cell_type": "code",
   "execution_count": 1030,
   "id": "30ca7a10",
   "metadata": {},
   "outputs": [
    {
     "data": {
      "text/plain": [
       "year             0\n",
       "selling_price    0\n",
       "km_driven        0\n",
       "fuel             0\n",
       "transmission     0\n",
       "owner            0\n",
       "mileage          0\n",
       "engine           0\n",
       "max_power        0\n",
       "dtype: int64"
      ]
     },
     "execution_count": 1030,
     "metadata": {},
     "output_type": "execute_result"
    }
   ],
   "source": [
    "#check the missing value in df data set\n",
    "df.isna().sum()"
   ]
  },
  {
   "cell_type": "markdown",
   "id": "2ce9d01d",
   "metadata": {},
   "source": [
    "## Modeling"
   ]
  },
  {
   "cell_type": "code",
   "execution_count": 1031,
   "id": "cb0ebda1",
   "metadata": {},
   "outputs": [],
   "source": [
    "import ssl\n",
    "import certifi\n",
    "\n",
    "ssl._create_default_https_context = ssl._create_unverified_context"
   ]
  },
  {
   "cell_type": "code",
   "execution_count": 1032,
   "id": "586a7ea7",
   "metadata": {},
   "outputs": [
    {
     "data": {
      "text/plain": [
       "<Experiment: artifact_location='mlflow-artifacts:/700563009768024371', creation_time=1759472657966, experiment_id='700563009768024371', last_update_time=1759472657966, lifecycle_stage='active', name='st126127-a3', tags={'mlflow.experimentKind': 'custom_model_development'}>"
      ]
     },
     "execution_count": 1032,
     "metadata": {},
     "output_type": "execute_result"
    }
   ],
   "source": [
    "#experiment tracking\n",
    "import mlflow\n",
    "import os\n",
    "import requests\n",
    "# This the dockerized method.\n",
    "# We build two docker containers, one for python/jupyter and another for mlflow.\n",
    "# The url `mlflow` is resolved into another container within the same composer.\n",
    "mlflow.set_tracking_uri(\"https://mlflow.ml.brain.cs.ait.ac.th/\")\n",
    "# In the dockerized way, the user who runs this code will be `root`.\n",
    "# The MLflow will also log the run user_id as `root`.\n",
    "# To change that, we need to set this environ[\"LOGNAME\"] to your name.\n",
    "os.environ[\"LOGNAME\"] = \"takdanai\"\n",
    "os.environ[\"MLFLOW_TRACKING_USERNAME\"] = \"admin\"\n",
    "os.environ[\"MLFLOW_TRACKING_PASSWORD\"] = \"password\"\n",
    "# mlflow.create_experiment(name=\"chaky-diabetes-example\")  #create if you haven't create\n",
    "# Define username and password\n",
    "# username = \"admin\"\n",
    "# password = \"password\"\n",
    "\n",
    "# Authenticate with MLflow\n",
    "# mlflow.get_tracking_uri()\n",
    "# session = requests.Session()\n",
    "# session.auth = (username, password)\n",
    "mlflow.set_experiment(experiment_name=\"st126127-a3\")"
   ]
  },
  {
   "cell_type": "code",
   "execution_count": 1033,
   "id": "de5586a6",
   "metadata": {},
   "outputs": [],
   "source": [
    "#x is our strong features\n",
    "X = df[[\"year\", \"mileage\", \"km_driven\", \"owner\"]]\n",
    "\n",
    "#y is simply the life expectancy col\n",
    "y = np.log(df['selling_price'])"
   ]
  },
  {
   "cell_type": "markdown",
   "id": "4dc541ad",
   "metadata": {},
   "source": [
    "Train Test Split"
   ]
  },
  {
   "cell_type": "code",
   "execution_count": 1034,
   "id": "44302a09",
   "metadata": {},
   "outputs": [
    {
     "name": "stdout",
     "output_type": "stream",
     "text": [
      "Training features shape:  (6422, 4)\n",
      "Testing features shape:  (1606, 4)\n",
      "Training target shape:  (6422,)\n",
      "Testing target shape:  (1606,)\n"
     ]
    }
   ],
   "source": [
    "from sklearn.model_selection import train_test_split\n",
    "\n",
    "# Split into training and testing datasets\n",
    "X_train, X_test, y_train, y_test = train_test_split(X, y, test_size = 0.2, random_state = 41)\n",
    "\n",
    "# Check if X contain (samples, features), and y contain (samples, )\n",
    "assert X_train.ndim == 2\n",
    "assert X_test.ndim  == 2\n",
    "assert y_train.ndim == 1\n",
    "\n",
    "\n",
    "# Check the shapes of the resulting datasets\n",
    "print(\"Training features shape: \", X_train.shape) #% of the rows, # of features\n",
    "print(\"Testing features shape: \", X_test.shape)\n",
    "print(\"Training target shape: \", y_train.shape)\n",
    "print(\"Testing target shape: \", y_test.shape)"
   ]
  },
  {
   "cell_type": "code",
   "execution_count": 1035,
   "id": "c71f3d56",
   "metadata": {},
   "outputs": [],
   "source": [
    "#Convert Data to Numpy Arrays\n",
    "X_train = np.array(X_train)\n",
    "X_test = np.array(X_test)\n",
    "y_train = np.array(y_train) \n",
    "y_test = np.array(y_test)  "
   ]
  },
  {
   "cell_type": "code",
   "execution_count": 1036,
   "id": "f0144c21",
   "metadata": {},
   "outputs": [],
   "source": [
    "from sklearn.preprocessing import StandardScaler\n",
    "# feature scaling helps improve reach convergence faster\n",
    "scaler = StandardScaler()\n",
    "X_train = scaler.fit_transform(X_train)\n",
    "X_test = scaler.transform(X_test)"
   ]
  },
  {
   "cell_type": "code",
   "execution_count": 1037,
   "id": "d94bff88",
   "metadata": {},
   "outputs": [],
   "source": [
    "# add intercept to our X\n",
    "intercept = np.ones((X_train.shape[0], 1))\n",
    "X_train = np.concatenate((intercept, X_train), axis=1) \n",
    "intercept = np.ones((X_test.shape[0], 1))\n",
    "X_test = np.concatenate((intercept, X_test), axis=1) #add intercept"
   ]
  },
  {
   "cell_type": "code",
   "execution_count": 1066,
   "id": "540eb217",
   "metadata": {},
   "outputs": [
    {
     "data": {
      "text/plain": [
       "(6422, 5)"
      ]
     },
     "execution_count": 1066,
     "metadata": {},
     "output_type": "execute_result"
    }
   ],
   "source": [
    "X_train.shape"
   ]
  },
  {
   "cell_type": "markdown",
   "id": "fd72797b",
   "metadata": {},
   "source": [
    "## Testing"
   ]
  },
  {
   "cell_type": "code",
   "execution_count": 1038,
   "id": "c16dc79c",
   "metadata": {},
   "outputs": [],
   "source": [
    "# Convert continuous price into categories (4 bins)\n",
    "y_train = pd.cut(y_train, bins=4, labels=[0, 1, 2, 3]).astype(int)\n",
    "y_test = pd.cut(y_test, bins=4, labels=[0, 1, 2, 3]).astype(int)\n",
    "\n",
    "# Correct one-hot encoding\n",
    "k = len(np.unique(y_train))  # Should now be 4\n",
    "m = X_train.shape[0]  # Number of samples\n",
    "\n",
    "Y_train_encoded = np.zeros((m, k))\n",
    "for i, label in enumerate(y_train):\n",
    "    Y_train_encoded[i, label] = 1  # Corrected indexing"
   ]
  },
  {
   "cell_type": "code",
   "execution_count": 1039,
   "id": "07c44b0f",
   "metadata": {},
   "outputs": [],
   "source": [
    "# Convert continuous price into categories (4 bins)\n",
    "y_train = pd.cut(y_train, bins=4, labels=[0, 1, 2, 3]).astype(int)\n",
    "y_test = pd.cut(y_test, bins=4, labels=[0, 1, 2, 3]).astype(int)\n",
    "\n",
    "# Correct one-hot encoding\n",
    "k = len(np.unique(y_train))  # Should now be 4\n",
    "m = X_train.shape[0]  # Number of samples\n",
    "\n",
    "Y_train_encoded = np.zeros((m, k))\n",
    "for i, label in enumerate(y_train):\n",
    "    Y_train_encoded[i, label] = 1  # Corrected indexing"
   ]
  },
  {
   "cell_type": "code",
   "execution_count": 1040,
   "id": "8cb32232",
   "metadata": {},
   "outputs": [
    {
     "data": {
      "image/png": "[encoded data removed]",
      "text/plain": [
       "<Figure size 600x600 with 2 Axes>"
      ]
     },
     "metadata": {},
     "output_type": "display_data"
    }
   ],
   "source": [
    "X = np.array(X)  # Ensure it's a NumPy array\n",
    "y = np.array(y).flatten() \n",
    "\n",
    "plt.figure(figsize=(6,6))\n",
    "plt.scatter(X[:, 0], X[:, 1], c=y, cmap='viridis', edgecolors='k')  # Fixes applied\n",
    "plt.colorbar(label='Class Label')  # Show class color mapping\n",
    "plt.title(\"Data Visualization\")\n",
    "plt.show()"
   ]
  },
  {
   "cell_type": "markdown",
   "id": "889cb22c",
   "metadata": {},
   "source": [
    "## Classification"
   ]
  },
  {
   "cell_type": "code",
   "execution_count": 1041,
   "id": "8e135225",
   "metadata": {},
   "outputs": [],
   "source": [
    "import time\n",
    "import numpy as np\n",
    "import matplotlib.pyplot as plt\n",
    "\n",
    "class LogisticRegression:\n",
    "    \n",
    "    def __init__(self, k, n, method=\"batch\", alpha=0.003, max_iter=5000, class_weights=None, lam=0.0):\n",
    "        self.k = k  # Number of classes\n",
    "        self.n = n  # Number of features + intercept\n",
    "        self.alpha = alpha  # Learning rate\n",
    "        self.max_iter = max_iter  # Number of iterations\n",
    "        self.method = method  # Optimization method\n",
    "        self.class_weights = class_weights  # Class weights for handling imbalance\n",
    "        self.lam = lam  # Ridge regularization parameter\n",
    "\n",
    "    def fit(self, X, Y):\n",
    "        # Ensure numpy arrays (avoid pandas issues)\n",
    "        X = np.array(X)\n",
    "        Y = np.array(Y)\n",
    "\n",
    "        self.W = np.random.randn(self.n, self.k) * 0.05  # Initialize weights\n",
    "        self.losses = []\n",
    "        self.velocity = np.zeros_like(self.W)  # For momentum\n",
    "        beta = 0.9  # Momentum factor\n",
    "        \n",
    "        start_time = time.time()\n",
    "        for i in range(self.max_iter):\n",
    "            loss, grad = self.gradient(X, Y)\n",
    "            \n",
    "            # Clip gradients to prevent explosion\n",
    "            grad = np.clip(grad, -1, 1)\n",
    "\n",
    "            self.losses.append(loss)\n",
    "\n",
    "            # Momentum update\n",
    "            self.velocity = beta * self.velocity + (1 - beta) * grad  \n",
    "            self.W -= self.alpha * self.velocity  \n",
    "\n",
    "            # Print progress every 500 iterations\n",
    "            if i % 500 == 0:\n",
    "                print(f\"Loss at iteration {i}: {loss:.4f}\")\n",
    "                print(\"Gradient norm:\", np.linalg.norm(grad))\n",
    "\n",
    "        print(f\"Training time: {time.time() - start_time:.2f} seconds\")\n",
    "\n",
    "    def gradient(self, X, Y):\n",
    "        m = X.shape[0]\n",
    "        h = self.h_theta(X, self.W)  # Softmax probabilities\n",
    "\n",
    "        # One-hot encode Y if needed\n",
    "        if Y.ndim == 1:\n",
    "            Y_onehot = np.zeros((m, self.k))\n",
    "            Y_onehot[np.arange(m), Y] = 1\n",
    "        else:\n",
    "            Y_onehot = Y\n",
    "\n",
    "        # Apply class weights if provided\n",
    "        if self.class_weights:\n",
    "            weight_matrix = np.array([self.class_weights.get(c, 1) for c in range(self.k)])\n",
    "            weighted_Y = Y_onehot * weight_matrix\n",
    "        else:\n",
    "            weighted_Y = Y_onehot\n",
    "\n",
    "        # Compute loss with ridge penalty\n",
    "        loss = -np.sum(weighted_Y * np.log(h + 1e-12)) / m\n",
    "        if self.lam > 0:\n",
    "            loss += (self.lam / (2 * m)) * np.sum(self.W**2)\n",
    "\n",
    "        # Compute gradient with ridge penalty\n",
    "        error = h - Y_onehot\n",
    "        grad = (X.T @ error) / m\n",
    "        if self.lam > 0:\n",
    "            grad += (self.lam / m) * self.W\n",
    "\n",
    "        return loss, grad\n",
    "\n",
    "    def softmax(self, logits):\n",
    "        \"\"\" Numerically stable softmax \"\"\"\n",
    "        logits = np.clip(logits, -500, 500)  \n",
    "        logits -= np.max(logits, axis=1, keepdims=True)  # Stability\n",
    "        exp_vals = np.exp(logits)\n",
    "        return exp_vals / (np.sum(exp_vals, axis=1, keepdims=True) + 1e-12)\n",
    "\n",
    "    def h_theta(self, X, W):\n",
    "        \"\"\" Compute probability predictions \"\"\"\n",
    "        X = np.array(X)  # ensure numpy\n",
    "        return self.softmax(X @ W)\n",
    "\n",
    "    def predict(self, X_test):\n",
    "        \"\"\" Return class predictions \"\"\"\n",
    "        X_test = np.array(X_test)\n",
    "        return np.argmax(self.h_theta(X_test, self.W), axis=1)\n",
    "\n",
    "    def accuracy(self, X_test, y_true):\n",
    "        \"\"\" Compute accuracy \"\"\"\n",
    "        y_pred = self.predict(X_test)\n",
    "        return np.mean(y_pred == y_true)\n",
    "\n",
    "    def plot(self):\n",
    "        \"\"\" Plot loss over iterations \"\"\"\n",
    "        plt.plot(np.arange(len(self.losses)), self.losses, label=\"Training Loss\")\n",
    "        plt.title(\"Loss over Iterations\")\n",
    "        plt.xlabel(\"Epoch\")\n",
    "        plt.ylabel(\"Loss\")\n",
    "        plt.legend()\n",
    "        plt.show()"
   ]
  },
  {
   "cell_type": "markdown",
   "id": "3b5e1210",
   "metadata": {},
   "source": [
    "## Run Algorithm"
   ]
  },
  {
   "cell_type": "code",
   "execution_count": 1042,
   "id": "375a1cc4",
   "metadata": {},
   "outputs": [
    {
     "name": "stdout",
     "output_type": "stream",
     "text": [
      "Loss at iteration 0: 1.3719\n",
      "Gradient norm: 0.5377817078201442\n",
      "Loss at iteration 500: 1.2498\n",
      "Gradient norm: 0.45933809328042824\n",
      "Loss at iteration 1000: 1.1588\n",
      "Gradient norm: 0.3940538433753893\n",
      "Loss at iteration 1500: 1.0912\n",
      "Gradient norm: 0.34180387389244077\n",
      "Loss at iteration 2000: 1.0397\n",
      "Gradient norm: 0.30011089654340795\n",
      "Loss at iteration 2500: 0.9996\n",
      "Gradient norm: 0.266595321773345\n",
      "Loss at iteration 3000: 0.9677\n",
      "Gradient norm: 0.23934675217612247\n",
      "Loss at iteration 3500: 0.9416\n",
      "Gradient norm: 0.2169253324914398\n",
      "Loss at iteration 4000: 0.9201\n",
      "Gradient norm: 0.1982621236411824\n",
      "Loss at iteration 4500: 0.9020\n",
      "Gradient norm: 0.1825614859471104\n",
      "Training time: 3.40 seconds\n",
      "Model Accuracy: 0.6183\n"
     ]
    },
    {
     "data": {
      "image/png": "[encoded data removed]",
      "text/plain": [
       "<Figure size 640x480 with 1 Axes>"
      ]
     },
     "metadata": {},
     "output_type": "display_data"
    },
    {
     "name": "stdout",
     "output_type": "stream",
     "text": [
      "========= Classification Report =======\n",
      "              precision    recall  f1-score   support\n",
      "\n",
      "           0       0.50      0.01      0.03        75\n",
      "           1       0.55      0.86      0.67       617\n",
      "           2       0.72      0.57      0.64       810\n",
      "           3       0.00      0.00      0.00       104\n",
      "\n",
      "    accuracy                           0.62      1606\n",
      "   macro avg       0.44      0.36      0.33      1606\n",
      "weighted avg       0.60      0.62      0.58      1606\n",
      "\n"
     ]
    },
    {
     "name": "stderr",
     "output_type": "stream",
     "text": [
      "d:\\A3_Car_Price\\.venv\\Lib\\site-packages\\sklearn\\metrics\\_classification.py:1731: UndefinedMetricWarning: Precision is ill-defined and being set to 0.0 in labels with no predicted samples. Use `zero_division` parameter to control this behavior.\n",
      "  _warn_prf(average, modifier, f\"{metric.capitalize()} is\", result.shape[0])\n",
      "d:\\A3_Car_Price\\.venv\\Lib\\site-packages\\sklearn\\metrics\\_classification.py:1731: UndefinedMetricWarning: Precision is ill-defined and being set to 0.0 in labels with no predicted samples. Use `zero_division` parameter to control this behavior.\n",
      "  _warn_prf(average, modifier, f\"{metric.capitalize()} is\", result.shape[0])\n",
      "d:\\A3_Car_Price\\.venv\\Lib\\site-packages\\sklearn\\metrics\\_classification.py:1731: UndefinedMetricWarning: Precision is ill-defined and being set to 0.0 in labels with no predicted samples. Use `zero_division` parameter to control this behavior.\n",
      "  _warn_prf(average, modifier, f\"{metric.capitalize()} is\", result.shape[0])\n"
     ]
    }
   ],
   "source": [
    "# Initialize and train the model\n",
    "class_model = LogisticRegression(k=k, n=X_train.shape[1], method=\"minibatch\", alpha=0.001, max_iter=5000)\n",
    "class_model.fit(X_train, Y_train_encoded)\n",
    "\n",
    "# Predictions\n",
    "yhat = class_model.predict(X_test)\n",
    "\n",
    "# Compute accuracy\n",
    "accuracy = class_model.accuracy(X_test, y_test)\n",
    "print(f\"Model Accuracy: {accuracy:.4f}\")\n",
    "\n",
    "# Plot loss curve\n",
    "class_model.plot()\n",
    "\n",
    "# Generate classification report\n",
    "from sklearn.metrics import classification_report\n",
    "print(\"========= Classification Report =======\")\n",
    "print(classification_report(y_test, yhat))"
   ]
  },
  {
   "cell_type": "code",
   "execution_count": 1043,
   "id": "3a7a36ff",
   "metadata": {},
   "outputs": [
    {
     "name": "stdout",
     "output_type": "stream",
     "text": [
      "Y_train_encoded shape: (6422, 4)\n",
      "First few Y_train_encoded rows:\n",
      " [[0. 0. 1. 0.]\n",
      " [0. 1. 0. 0.]\n",
      " [0. 1. 0. 0.]\n",
      " [0. 0. 1. 0.]\n",
      " [0. 1. 0. 0.]]\n"
     ]
    }
   ],
   "source": [
    "#Ensure that the model actually learn\n",
    "print(\"Y_train_encoded shape:\", Y_train_encoded.shape)  # Should be (m, k)\n",
    "print(\"First few Y_train_encoded rows:\\n\", Y_train_encoded[:5])"
   ]
  },
  {
   "cell_type": "markdown",
   "id": "ff802c8f",
   "metadata": {},
   "source": [
    "Macro Precision, Macro Recall, Macro F1"
   ]
  },
  {
   "cell_type": "code",
   "execution_count": 1044,
   "id": "6f06bb94",
   "metadata": {},
   "outputs": [
    {
     "name": "stdout",
     "output_type": "stream",
     "text": [
      "Macro Precision: 0.4421\n",
      "Macro Recall: 0.3605\n",
      "Macro F1-score: 0.3334\n"
     ]
    },
    {
     "name": "stderr",
     "output_type": "stream",
     "text": [
      "d:\\A3_Car_Price\\.venv\\Lib\\site-packages\\sklearn\\metrics\\_classification.py:1731: UndefinedMetricWarning: Precision is ill-defined and being set to 0.0 in labels with no predicted samples. Use `zero_division` parameter to control this behavior.\n",
      "  _warn_prf(average, modifier, f\"{metric.capitalize()} is\", result.shape[0])\n"
     ]
    }
   ],
   "source": [
    "from sklearn.metrics import precision_score, recall_score, f1_score\n",
    "\n",
    "def compute_macro_metrics(y_true, y_pred):\n",
    "    macro_precision = precision_score(y_true, y_pred, average=\"macro\")\n",
    "    macro_recall = recall_score(y_true, y_pred, average=\"macro\")\n",
    "    macro_f1 = f1_score(y_true, y_pred, average=\"macro\")\n",
    "    \n",
    "    print(f\"Macro Precision: {macro_precision:.4f}\")\n",
    "    print(f\"Macro Recall: {macro_recall:.4f}\")\n",
    "    print(f\"Macro F1-score: {macro_f1:.4f}\")\n",
    "    \n",
    "    return macro_precision, macro_recall, macro_f1\n",
    "\n",
    "# Example usage:\n",
    "macro_precision, macro_recall, macro_f1 = compute_macro_metrics(y_test, yhat)"
   ]
  },
  {
   "cell_type": "markdown",
   "id": "39173061",
   "metadata": {},
   "source": [
    "Weighted Precision, Weighted Recall, and Weighted F1"
   ]
  },
  {
   "cell_type": "code",
   "execution_count": 1045,
   "id": "df383413",
   "metadata": {},
   "outputs": [
    {
     "name": "stdout",
     "output_type": "stream",
     "text": [
      "Weighted Precision: 0.5967\n",
      "Weighted Recall: 0.6183\n",
      "Weighted F1-score: 0.5801\n"
     ]
    },
    {
     "name": "stderr",
     "output_type": "stream",
     "text": [
      "d:\\A3_Car_Price\\.venv\\Lib\\site-packages\\sklearn\\metrics\\_classification.py:1731: UndefinedMetricWarning: Precision is ill-defined and being set to 0.0 in labels with no predicted samples. Use `zero_division` parameter to control this behavior.\n",
      "  _warn_prf(average, modifier, f\"{metric.capitalize()} is\", result.shape[0])\n"
     ]
    }
   ],
   "source": [
    "from sklearn.metrics import precision_score, recall_score, f1_score\n",
    "\n",
    "def compute_weighted_metrics(y_true, y_pred):\n",
    "    weighted_precision = precision_score(y_true, y_pred, average=\"weighted\")\n",
    "    weighted_recall = recall_score(y_true, y_pred, average=\"weighted\")\n",
    "    weighted_f1 = f1_score(y_true, y_pred, average=\"weighted\")\n",
    "    \n",
    "    print(f\"Weighted Precision: {weighted_precision:.4f}\")\n",
    "    print(f\"Weighted Recall: {weighted_recall:.4f}\")\n",
    "    print(f\"Weighted F1-score: {weighted_f1:.4f}\")\n",
    "    \n",
    "    return weighted_precision, weighted_recall, weighted_f1\n",
    "\n",
    "# Example usage:\n",
    "weighted_precision, weighted_recall, weighted_f1 = compute_weighted_metrics(y_test, yhat)"
   ]
  },
  {
   "cell_type": "markdown",
   "id": "46a58334",
   "metadata": {},
   "source": [
    "Compare Your Implementation with classification_report in Scikit-Learn"
   ]
  },
  {
   "cell_type": "code",
   "execution_count": 1046,
   "id": "7b759dc4",
   "metadata": {},
   "outputs": [
    {
     "name": "stdout",
     "output_type": "stream",
     "text": [
      "True labels: [2 3 0 2 2 3 0 0 2 1]\n",
      "Predicted labels: [2 2 2 2 3 0 3 3 3 2]\n"
     ]
    }
   ],
   "source": [
    "import numpy as np\n",
    "from sklearn.metrics import classification_report\n",
    "\n",
    "# Generate mock data (10 samples, 4 classes)\n",
    "np.random.seed(42)\n",
    "y_true = np.random.randint(0, 4, 10)  # True labels (random 0-3)\n",
    "y_pred = np.random.randint(0, 4, 10)  # Predicted labels (random 0-3)\n",
    "\n",
    "print(\"True labels:\", y_true)\n",
    "print(\"Predicted labels:\", y_pred)"
   ]
  },
  {
   "cell_type": "markdown",
   "id": "bc4eaae4",
   "metadata": {},
   "source": [
    "Calculate Precision, Recall, f1"
   ]
  },
  {
   "cell_type": "code",
   "execution_count": 1047,
   "id": "83ac222f",
   "metadata": {},
   "outputs": [
    {
     "name": "stdout",
     "output_type": "stream",
     "text": [
      "\n",
      "===== Manual Computation =====\n",
      "Macro Precision: 0.1000\n",
      "Macro Recall: 0.1250\n",
      "Macro F1-score: 0.1111\n"
     ]
    },
    {
     "name": "stderr",
     "output_type": "stream",
     "text": [
      "d:\\A3_Car_Price\\.venv\\Lib\\site-packages\\sklearn\\metrics\\_classification.py:1731: UndefinedMetricWarning: Precision is ill-defined and being set to 0.0 in labels with no predicted samples. Use `zero_division` parameter to control this behavior.\n",
      "  _warn_prf(average, modifier, f\"{metric.capitalize()} is\", result.shape[0])\n"
     ]
    },
    {
     "data": {
      "text/plain": [
       "(np.float64(0.1), np.float64(0.125), np.float64(0.1111111111111111))"
      ]
     },
     "execution_count": 1047,
     "metadata": {},
     "output_type": "execute_result"
    }
   ],
   "source": [
    "def manual_macro_metrics(y_true, y_pred):\n",
    "    from sklearn.metrics import precision_score, recall_score, f1_score\n",
    "    import numpy as np\n",
    "\n",
    "    # Compute precision, recall, and F1-score per class\n",
    "    per_class_precision = precision_score(y_true, y_pred, average=None)\n",
    "    per_class_recall = recall_score(y_true, y_pred, average=None)\n",
    "    per_class_f1 = f1_score(y_true, y_pred, average=None)\n",
    "\n",
    "    # Macro averaging: mean of all class scores\n",
    "    macro_precision = np.mean(per_class_precision)\n",
    "    macro_recall = np.mean(per_class_recall)\n",
    "    macro_f1 = np.mean(per_class_f1)\n",
    "    \n",
    "    print(\"\\n===== Manual Computation =====\")\n",
    "    print(f\"Macro Precision: {macro_precision:.4f}\")\n",
    "    print(f\"Macro Recall: {macro_recall:.4f}\")\n",
    "    print(f\"Macro F1-score: {macro_f1:.4f}\")\n",
    "\n",
    "    return macro_precision, macro_recall, macro_f1\n",
    "\n",
    "manual_macro_metrics(y_true, y_pred)"
   ]
  },
  {
   "cell_type": "markdown",
   "id": "af227249",
   "metadata": {},
   "source": [
    "Compare"
   ]
  },
  {
   "cell_type": "code",
   "execution_count": 1048,
   "id": "ad85c69a",
   "metadata": {},
   "outputs": [
    {
     "name": "stdout",
     "output_type": "stream",
     "text": [
      "\n",
      "===== Scikit-Learn Classification Report =====\n",
      "              precision    recall  f1-score   support\n",
      "\n",
      "           0     0.0000    0.0000    0.0000         3\n",
      "           1     0.0000    0.0000    0.0000         1\n",
      "           2     0.4000    0.5000    0.4444         4\n",
      "           3     0.0000    0.0000    0.0000         2\n",
      "\n",
      "    accuracy                         0.2000        10\n",
      "   macro avg     0.1000    0.1250    0.1111        10\n",
      "weighted avg     0.1600    0.2000    0.1778        10\n",
      "\n"
     ]
    },
    {
     "name": "stderr",
     "output_type": "stream",
     "text": [
      "d:\\A3_Car_Price\\.venv\\Lib\\site-packages\\sklearn\\metrics\\_classification.py:1731: UndefinedMetricWarning: Precision is ill-defined and being set to 0.0 in labels with no predicted samples. Use `zero_division` parameter to control this behavior.\n",
      "  _warn_prf(average, modifier, f\"{metric.capitalize()} is\", result.shape[0])\n",
      "d:\\A3_Car_Price\\.venv\\Lib\\site-packages\\sklearn\\metrics\\_classification.py:1731: UndefinedMetricWarning: Precision is ill-defined and being set to 0.0 in labels with no predicted samples. Use `zero_division` parameter to control this behavior.\n",
      "  _warn_prf(average, modifier, f\"{metric.capitalize()} is\", result.shape[0])\n",
      "d:\\A3_Car_Price\\.venv\\Lib\\site-packages\\sklearn\\metrics\\_classification.py:1731: UndefinedMetricWarning: Precision is ill-defined and being set to 0.0 in labels with no predicted samples. Use `zero_division` parameter to control this behavior.\n",
      "  _warn_prf(average, modifier, f\"{metric.capitalize()} is\", result.shape[0])\n"
     ]
    }
   ],
   "source": [
    "print(\"\\n===== Scikit-Learn Classification Report =====\")\n",
    "print(classification_report(y_true, y_pred, digits=4))"
   ]
  },
  {
   "cell_type": "markdown",
   "id": "8ef968a5",
   "metadata": {},
   "source": [
    "What Does \"Support\" Mean in the Classification Report?\n",
    "\n",
    "Answer:\n",
    "\n",
    "Support represents the number of actual occurrences of each class in the dataset (y_true). It helps detect class imbalance (e.g., when some classes appear more frequently than others) and indicates whether a class has enough samples for meaningful evaluation. If support is too low, metrics like precision and recall may be unreliable."
   ]
  },
  {
   "cell_type": "code",
   "execution_count": 1049,
   "id": "f8ed8b86",
   "metadata": {},
   "outputs": [
    {
     "name": "stderr",
     "output_type": "stream",
     "text": [
      "2025/10/03 14:24:42 WARNING mlflow.models.model: `artifact_path` is deprecated. Please use `name` instead.\n",
      "2025/10/03 14:24:45 WARNING mlflow.models.model: Model logged without a signature and input example. Please set `input_example` parameter when logging the model to auto infer the model signature.\n"
     ]
    },
    {
     "name": "stdout",
     "output_type": "stream",
     "text": [
      "🏃 View run stylish-squirrel-500 at: https://mlflow.ml.brain.cs.ait.ac.th/#/experiments/700563009768024371/runs/b4e75b16010c475fad8bf3ce57cc9cb2\n",
      "🧪 View experiment at: https://mlflow.ml.brain.cs.ait.ac.th/#/experiments/700563009768024371\n",
      "Model saved successfully!\n"
     ]
    }
   ],
   "source": [
    "# Start MLflow Run\n",
    "with mlflow.start_run():\n",
    "    mlflow.log_param(\"model_type\", \"Classification\")\n",
    "    \n",
    "    # Log model ONLY, without dataset\n",
    "    mlflow.sklearn.log_model(class_model, \"classification_model\")\n",
    "    \n",
    "    # Save model locally\n",
    "    mlflow.sklearn.save_model(class_model, \"classification_saved_model2\")\n",
    "\n",
    "print(\"Model saved successfully!\")"
   ]
  },
  {
   "cell_type": "markdown",
   "id": "2795c45a",
   "metadata": {},
   "source": [
    "## Ridge Logistic Regression"
   ]
  },
  {
   "cell_type": "code",
   "execution_count": 1050,
   "id": "77a19895",
   "metadata": {},
   "outputs": [],
   "source": [
    "import time\n",
    "import numpy as np\n",
    "import matplotlib.pyplot as plt\n",
    "\n",
    "class LogisticRegression:\n",
    "    def __init__(self, k, n, method=\"batch\", alpha=0.003, max_iter=5000, lambda_=0.0):\n",
    "        self.k = k                   # Number of classes\n",
    "        self.n = n                   # Number of features\n",
    "        self.alpha = alpha           # Learning rate\n",
    "        self.max_iter = max_iter     # Iterations\n",
    "        self.method = method         # Optimization method\n",
    "        self.lambda_ = lambda_       # Ridge penalty strength (L2)\n",
    "\n",
    "    def fit(self, X, Y):\n",
    "        # ✅ Force numpy arrays to avoid pandas errors\n",
    "        X = np.array(X)\n",
    "        Y = np.array(Y)\n",
    "\n",
    "        self.W = np.random.randn(self.n, self.k) * 0.05  # Weight initialization\n",
    "        self.losses = []\n",
    "\n",
    "        start_time = time.time()\n",
    "        for i in range(self.max_iter):\n",
    "            loss, grad = self.gradient(X, Y)\n",
    "\n",
    "            # Weight update with ridge (applied in gradient)\n",
    "            self.W -= self.alpha * grad\n",
    "\n",
    "            self.losses.append(loss)\n",
    "\n",
    "            if i % 500 == 0:\n",
    "                print(f\"Iter {i}, Loss: {loss:.4f}\")\n",
    "\n",
    "        print(f\"Training finished in {time.time()-start_time:.2f} sec\")\n",
    "\n",
    "    def gradient(self, X, Y):\n",
    "        \"\"\" Compute loss and gradient with optional L2 regularization \"\"\"\n",
    "        X = np.array(X)\n",
    "        Y = np.array(Y)\n",
    "\n",
    "        m = X.shape[0]\n",
    "        h = self.h_theta(X, self.W)  # Softmax predictions\n",
    "\n",
    "        # One-hot encode Y if still 1D\n",
    "        if Y.ndim == 1:\n",
    "            Y_onehot = np.zeros((m, self.k))\n",
    "            Y_onehot[np.arange(m), Y] = 1\n",
    "        else:\n",
    "            Y_onehot = Y\n",
    "\n",
    "        # Loss with ridge regularization\n",
    "        loss = -np.sum(Y_onehot * np.log(h + 1e-12)) / m\n",
    "        if self.lambda_ > 0:\n",
    "            loss += (self.lambda_ / (2 * m)) * np.sum(self.W**2)\n",
    "\n",
    "        # Gradient with ridge regularization\n",
    "        error = h - Y_onehot\n",
    "        grad = (X.T @ error) / m\n",
    "        if self.lambda_ > 0:\n",
    "            grad += (self.lambda_ / m) * self.W\n",
    "\n",
    "        return loss, grad\n",
    "\n",
    "    def h_theta(self, X, W):\n",
    "        \"\"\" Compute probabilities using stable softmax \"\"\"\n",
    "        X = np.array(X)  # ✅ ensure numpy array\n",
    "        logits = X @ W\n",
    "        logits -= np.max(logits, axis=1, keepdims=True)  # stability trick\n",
    "        exp_vals = np.exp(logits)\n",
    "        return exp_vals / (np.sum(exp_vals, axis=1, keepdims=True) + 1e-12)\n",
    "\n",
    "    def predict(self, X):\n",
    "        X = np.array(X)\n",
    "        return np.argmax(self.h_theta(X, self.W), axis=1)\n",
    "\n",
    "    def accuracy(self, X, y_true):\n",
    "        y_pred = self.predict(X)\n",
    "        return np.mean(y_pred == y_true)\n",
    "\n",
    "    def plot(self):\n",
    "        plt.plot(np.arange(len(self.losses)), self.losses, label=\"Training Loss\")\n",
    "        plt.title(\"Loss over Iterations\")\n",
    "        plt.xlabel(\"Iteration\")\n",
    "        plt.ylabel(\"Loss\")\n",
    "        plt.legend()\n",
    "        plt.show()"
   ]
  },
  {
   "cell_type": "code",
   "execution_count": 1051,
   "id": "7ad2fb8c",
   "metadata": {},
   "outputs": [
    {
     "name": "stdout",
     "output_type": "stream",
     "text": [
      "Iter 0, Loss: 1.3719\n",
      "Iter 500, Loss: 1.3576\n",
      "Iter 1000, Loss: 1.3439\n",
      "Iter 1500, Loss: 1.3305\n",
      "Iter 2000, Loss: 1.3176\n",
      "Iter 2500, Loss: 1.3051\n",
      "Iter 3000, Loss: 1.2930\n",
      "Iter 3500, Loss: 1.2812\n",
      "Iter 4000, Loss: 1.2699\n",
      "Iter 4500, Loss: 1.2589\n",
      "Training finished in 3.49 sec\n",
      "-----------------Penalty (lambda) is applied-----------------\n",
      "Iter 0, Loss: 1.4089\n",
      "Iter 500, Loss: 1.3937\n",
      "Iter 1000, Loss: 1.3789\n",
      "Iter 1500, Loss: 1.3646\n",
      "Iter 2000, Loss: 1.3507\n",
      "Iter 2500, Loss: 1.3373\n",
      "Iter 3000, Loss: 1.3242\n",
      "Iter 3500, Loss: 1.3116\n",
      "Iter 4000, Loss: 1.2994\n",
      "Iter 4500, Loss: 1.2876\n",
      "Training finished in 3.71 sec\n"
     ]
    }
   ],
   "source": [
    "# ✅ Train Model WITHOUT Regularization (Standard Logistic Regression)\n",
    "model = LogisticRegression(k=k, n=X_train.shape[1], method=\"minibatch\", alpha=0.0001, max_iter=5000, lambda_=0.0)\n",
    "model.fit(X_train, Y_train_encoded)\n",
    "\n",
    "print(\"-----------------Penalty (lambda) is applied-----------------\")\n",
    "\n",
    "# ✅ Train Model WITH Ridge Regularization (L2 Regularization Applied)\n",
    "ridge_model = LogisticRegression(k=k, n=X_train.shape[1], method=\"minibatch\", alpha=0.0001, max_iter=5000, lambda_=0.001)\n",
    "ridge_model.fit(X_train, Y_train_encoded)"
   ]
  },
  {
   "cell_type": "code",
   "execution_count": 1052,
   "id": "94407427",
   "metadata": {},
   "outputs": [
    {
     "name": "stderr",
     "output_type": "stream",
     "text": [
      "2025/10/03 14:24:57 WARNING mlflow.models.model: `artifact_path` is deprecated. Please use `name` instead.\n",
      "2025/10/03 14:25:00 WARNING mlflow.models.model: Model logged without a signature and input example. Please set `input_example` parameter when logging the model to auto infer the model signature.\n",
      "Registered model 'st126127-a3-model' already exists. Creating a new version of this model...\n",
      "2025/10/03 14:25:02 WARNING mlflow.tracking._model_registry.fluent: Run with id 92853ab504564932ae92e18d2861c74a has no artifacts at artifact path 'Ridge_Regression_model', registering model based on models:/m-8ea2843a966949c2b9bca1694465614d instead\n",
      "2025/10/03 14:25:03 INFO mlflow.store.model_registry.abstract_store: Waiting up to 300 seconds for model version to finish creation. Model name: st126127-a3-model, version 5\n",
      "Created version '5' of model 'st126127-a3-model'.\n"
     ]
    },
    {
     "name": "stdout",
     "output_type": "stream",
     "text": [
      "🏃 View run placid-dove-340 at: https://mlflow.ml.brain.cs.ait.ac.th/#/experiments/700563009768024371/runs/92853ab504564932ae92e18d2861c74a\n",
      "🧪 View experiment at: https://mlflow.ml.brain.cs.ait.ac.th/#/experiments/700563009768024371\n",
      "Model registered: st126127-a3-model, version: 5\n"
     ]
    }
   ],
   "source": [
    "import mlflow\n",
    "import mlflow.sklearn\n",
    "from mlflow.tracking import MlflowClient\n",
    "\n",
    "model_name = \"st126127-a3-model\"\n",
    "\n",
    "with mlflow.start_run() as run:\n",
    "    mlflow.log_param(\"model_type\", \"Ridge_Regression\")\n",
    "\n",
    "    # Log model to run\n",
    "    mlflow.sklearn.log_model(model, \"Ridge_Regression_model\")\n",
    "\n",
    "    # Register model in the registry\n",
    "    model_uri = f\"runs:/{run.info.run_id}/Ridge_Regression_model\"\n",
    "    result = mlflow.register_model(model_uri, model_name)\n",
    "\n",
    "print(f\"Model registered: {result.name}, version: {result.version}\")"
   ]
  },
  {
   "cell_type": "code",
   "execution_count": 1053,
   "id": "19dc3b5b",
   "metadata": {},
   "outputs": [],
   "source": [
    "# # Start MLflow Run\n",
    "# with mlflow.start_run():\n",
    "#     mlflow.log_param(\"model_type\", \"Ridge_Regression\")\n",
    "    \n",
    "#     # Log model ONLY, without dataset\n",
    "#     mlflow.sklearn.log_model(model, \"Ridge_Regression_model\")\n",
    "    \n",
    "#     # Save model locally\n",
    "#     mlflow.sklearn.save_model(model, \"Ridge_Regression_saved_model\")\n",
    "\n",
    "# print(\"Model saved successfully!\")"
   ]
  },
  {
   "cell_type": "code",
   "execution_count": 1054,
   "id": "b88d0e3a",
   "metadata": {},
   "outputs": [
    {
     "name": "stderr",
     "output_type": "stream",
     "text": [
      "C:\\Users\\ADMIN\\AppData\\Local\\Temp\\ipykernel_12256\\231094975.py:8: FutureWarning: ``mlflow.tracking.client.MlflowClient.transition_model_version_stage`` is deprecated since 2.9.0. Model registry stages will be removed in a future major release. To learn more about the deprecation of model registry stages, see our migration guide here: https://mlflow.org/docs/latest/model-registry.html#migrating-from-stages\n",
      "  client.transition_model_version_stage(\n"
     ]
    },
    {
     "name": "stdout",
     "output_type": "stream",
     "text": [
      "Model st126127-a3-model version 4 is now in Staging.\n"
     ]
    }
   ],
   "source": [
    "client = mlflow.tracking.MlflowClient()\n",
    "\n",
    "# Specify the model name and version\n",
    "model_name = \"st126127-a3-model\"\n",
    "model_version = 4  # Update with the correct version\n",
    "\n",
    "# Transition model to Staging\n",
    "client.transition_model_version_stage(\n",
    "    name=model_name,\n",
    "    version=model_version,\n",
    "    stage=\"Staging\"\n",
    ")\n",
    "\n",
    "print(f\"Model {model_name} version {model_version} is now in Staging.\")"
   ]
  },
  {
   "cell_type": "code",
   "execution_count": 1055,
   "id": "04f9b2ca",
   "metadata": {},
   "outputs": [
    {
     "name": "stdout",
     "output_type": "stream",
     "text": [
      "Model st126127-a3-model (Version 4) is in stage: Staging\n"
     ]
    }
   ],
   "source": [
    "model_version_info = client.get_model_version(\n",
    "    name=\"st126127-a3-model\",\n",
    "    version=model_version\n",
    ")\n",
    "\n",
    "print(f\"Model {model_version_info.name} (Version {model_version_info.version}) is in stage: {model_version_info.current_stage}\")"
   ]
  },
  {
   "cell_type": "markdown",
   "id": "a69f16e0",
   "metadata": {},
   "source": [
    "## Inference"
   ]
  },
  {
   "cell_type": "code",
   "execution_count": 1056,
   "id": "e6532c40",
   "metadata": {},
   "outputs": [],
   "source": [
    "import pickle\n",
    "from sklearn.linear_model import LogisticRegression\n",
    "\n",
    "# Create and train model\n",
    "class_model = LogisticRegression()\n",
    "class_model.fit(X_train, y_train)  # Ensure model is trained\n",
    "\n",
    "# Save the model correctly\n",
    "filename = 'selling_price3.model'\n",
    "with open(filename, 'wb') as f:\n",
    "    pickle.dump(class_model, f)"
   ]
  },
  {
   "cell_type": "code",
   "execution_count": 1057,
   "id": "75e04ce1",
   "metadata": {},
   "outputs": [],
   "source": [
    "import mlflow.sklearn\n",
    "\n",
    "model_uri = \"models:/st126127-a3-model/1\"  # Replace with actual model name\n",
    "sklearn_model = mlflow.sklearn.load_model(model_uri)"
   ]
  },
  {
   "cell_type": "code",
   "execution_count": 1058,
   "id": "0e9b97ed",
   "metadata": {},
   "outputs": [],
   "source": [
    "loaded_model = pickle.load(open(filename, 'rb'))    "
   ]
  },
  {
   "cell_type": "code",
   "execution_count": 1059,
   "id": "6b9be5e1",
   "metadata": {},
   "outputs": [
    {
     "data": {
      "text/plain": [
       "year               2014.00\n",
       "mileage              21.14\n",
       "km_driven        120000.00\n",
       "owner                 2.00\n",
       "selling_price    370000.00\n",
       "Name: 1, dtype: float64"
      ]
     },
     "execution_count": 1059,
     "metadata": {},
     "output_type": "execute_result"
    }
   ],
   "source": [
    "df[[\"year\", \"mileage\", \"km_driven\", \"owner\", \"selling_price\"]].loc[1]\n"
   ]
  },
  {
   "cell_type": "code",
   "execution_count": null,
   "id": "f75db65b",
   "metadata": {},
   "outputs": [],
   "source": [
    "sample = np.array([[1, 2014, 21.14, 120000.00, 2.00]]) #bias #year #mileage #km_driven #owner\n",
    "sample = sample.reshape(1, -1)"
   ]
  },
  {
   "cell_type": "code",
   "execution_count": 1069,
   "id": "3945b8ac",
   "metadata": {},
   "outputs": [
    {
     "data": {
      "text/plain": [
       "array([2])"
      ]
     },
     "execution_count": 1069,
     "metadata": {},
     "output_type": "execute_result"
    }
   ],
   "source": [
    "selling_price_3= loaded_model.predict(sample)\n",
    "selling_price_3"
   ]
  },
  {
   "cell_type": "code",
   "execution_count": 1070,
   "id": "ebf32b90",
   "metadata": {},
   "outputs": [
    {
     "data": {
      "text/plain": [
       "array([0])"
      ]
     },
     "execution_count": 1070,
     "metadata": {},
     "output_type": "execute_result"
    }
   ],
   "source": [
    "selling_price_3 = sklearn_model.predict(sample)\n",
    "selling_price_3"
   ]
  }
 ],
 "metadata": {
  "kernelspec": {
   "display_name": ".venv",
   "language": "python",
   "name": "python3"
  },
  "language_info": {
   "codemirror_mode": {
    "name": "ipython",
    "version": 3
   },
   "file_extension": ".py",
   "mimetype": "text/x-python",
   "name": "python",
   "nbconvert_exporter": "python",
   "pygments_lexer": "ipython3",
   "version": "3.13.7"
  }
 },
 "nbformat": 4,
 "nbformat_minor": 5
}
