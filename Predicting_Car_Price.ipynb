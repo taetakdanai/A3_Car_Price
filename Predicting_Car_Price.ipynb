{
 "cells": [
  {
   "cell_type": "markdown",
   "id": "ba4e081c",
   "metadata": {},
   "source": [
    "## Import Library"
   ]
  },
  {
   "cell_type": "code",
   "execution_count": 1,
   "id": "1c3888a1",
   "metadata": {},
   "outputs": [],
   "source": [
    "#Import Library\n",
    "import numpy as np\n",
    "import pandas as pd\n",
    "import seaborn as sns\n",
    "import matplotlib.pyplot as plt \n",
    "import warnings\n",
    "import matplotlib\n",
    "df = pd.read_csv('Cars.csv')\n"
   ]
  },
  {
   "cell_type": "markdown",
   "id": "e37cfa7c",
   "metadata": {},
   "source": [
    "## Load Data"
   ]
  },
  {
   "cell_type": "code",
   "execution_count": 2,
   "id": "e154f23a",
   "metadata": {},
   "outputs": [
    {
     "data": {
      "text/html": [
       "<div>\n",
       "<style scoped>\n",
       "    .dataframe tbody tr th:only-of-type {\n",
       "        vertical-align: middle;\n",
       "    }\n",
       "\n",
       "    .dataframe tbody tr th {\n",
       "        vertical-align: top;\n",
       "    }\n",
       "\n",
       "    .dataframe thead th {\n",
       "        text-align: right;\n",
       "    }\n",
       "</style>\n",
       "<table border=\"1\" class=\"dataframe\">\n",
       "  <thead>\n",
       "    <tr style=\"text-align: right;\">\n",
       "      <th></th>\n",
       "      <th>name</th>\n",
       "      <th>year</th>\n",
       "      <th>selling_price</th>\n",
       "      <th>km_driven</th>\n",
       "      <th>fuel</th>\n",
       "      <th>seller_type</th>\n",
       "      <th>transmission</th>\n",
       "      <th>owner</th>\n",
       "      <th>mileage</th>\n",
       "      <th>engine</th>\n",
       "      <th>max_power</th>\n",
       "      <th>torque</th>\n",
       "      <th>seats</th>\n",
       "    </tr>\n",
       "  </thead>\n",
       "  <tbody>\n",
       "    <tr>\n",
       "      <th>0</th>\n",
       "      <td>Maruti Swift Dzire VDI</td>\n",
       "      <td>2014</td>\n",
       "      <td>450000</td>\n",
       "      <td>145500</td>\n",
       "      <td>Diesel</td>\n",
       "      <td>Individual</td>\n",
       "      <td>Manual</td>\n",
       "      <td>First Owner</td>\n",
       "      <td>23.4 kmpl</td>\n",
       "      <td>1248 CC</td>\n",
       "      <td>74 bhp</td>\n",
       "      <td>190Nm@ 2000rpm</td>\n",
       "      <td>5.0</td>\n",
       "    </tr>\n",
       "    <tr>\n",
       "      <th>1</th>\n",
       "      <td>Skoda Rapid 1.5 TDI Ambition</td>\n",
       "      <td>2014</td>\n",
       "      <td>370000</td>\n",
       "      <td>120000</td>\n",
       "      <td>Diesel</td>\n",
       "      <td>Individual</td>\n",
       "      <td>Manual</td>\n",
       "      <td>Second Owner</td>\n",
       "      <td>21.14 kmpl</td>\n",
       "      <td>1498 CC</td>\n",
       "      <td>103.52 bhp</td>\n",
       "      <td>250Nm@ 1500-2500rpm</td>\n",
       "      <td>5.0</td>\n",
       "    </tr>\n",
       "    <tr>\n",
       "      <th>2</th>\n",
       "      <td>Honda City 2017-2020 EXi</td>\n",
       "      <td>2006</td>\n",
       "      <td>158000</td>\n",
       "      <td>140000</td>\n",
       "      <td>Petrol</td>\n",
       "      <td>Individual</td>\n",
       "      <td>Manual</td>\n",
       "      <td>Third Owner</td>\n",
       "      <td>17.7 kmpl</td>\n",
       "      <td>1497 CC</td>\n",
       "      <td>78 bhp</td>\n",
       "      <td>12.7@ 2,700(kgm@ rpm)</td>\n",
       "      <td>5.0</td>\n",
       "    </tr>\n",
       "    <tr>\n",
       "      <th>3</th>\n",
       "      <td>Hyundai i20 Sportz Diesel</td>\n",
       "      <td>2010</td>\n",
       "      <td>225000</td>\n",
       "      <td>127000</td>\n",
       "      <td>Diesel</td>\n",
       "      <td>Individual</td>\n",
       "      <td>Manual</td>\n",
       "      <td>First Owner</td>\n",
       "      <td>23.0 kmpl</td>\n",
       "      <td>1396 CC</td>\n",
       "      <td>90 bhp</td>\n",
       "      <td>22.4 kgm at 1750-2750rpm</td>\n",
       "      <td>5.0</td>\n",
       "    </tr>\n",
       "    <tr>\n",
       "      <th>4</th>\n",
       "      <td>Maruti Swift VXI BSIII</td>\n",
       "      <td>2007</td>\n",
       "      <td>130000</td>\n",
       "      <td>120000</td>\n",
       "      <td>Petrol</td>\n",
       "      <td>Individual</td>\n",
       "      <td>Manual</td>\n",
       "      <td>First Owner</td>\n",
       "      <td>16.1 kmpl</td>\n",
       "      <td>1298 CC</td>\n",
       "      <td>88.2 bhp</td>\n",
       "      <td>11.5@ 4,500(kgm@ rpm)</td>\n",
       "      <td>5.0</td>\n",
       "    </tr>\n",
       "  </tbody>\n",
       "</table>\n",
       "</div>"
      ],
      "text/plain": [
       "                           name  year  selling_price  km_driven    fuel  \\\n",
       "0        Maruti Swift Dzire VDI  2014         450000     145500  Diesel   \n",
       "1  Skoda Rapid 1.5 TDI Ambition  2014         370000     120000  Diesel   \n",
       "2      Honda City 2017-2020 EXi  2006         158000     140000  Petrol   \n",
       "3     Hyundai i20 Sportz Diesel  2010         225000     127000  Diesel   \n",
       "4        Maruti Swift VXI BSIII  2007         130000     120000  Petrol   \n",
       "\n",
       "  seller_type transmission         owner     mileage   engine   max_power  \\\n",
       "0  Individual       Manual   First Owner   23.4 kmpl  1248 CC      74 bhp   \n",
       "1  Individual       Manual  Second Owner  21.14 kmpl  1498 CC  103.52 bhp   \n",
       "2  Individual       Manual   Third Owner   17.7 kmpl  1497 CC      78 bhp   \n",
       "3  Individual       Manual   First Owner   23.0 kmpl  1396 CC      90 bhp   \n",
       "4  Individual       Manual   First Owner   16.1 kmpl  1298 CC    88.2 bhp   \n",
       "\n",
       "                     torque  seats  \n",
       "0            190Nm@ 2000rpm    5.0  \n",
       "1       250Nm@ 1500-2500rpm    5.0  \n",
       "2     12.7@ 2,700(kgm@ rpm)    5.0  \n",
       "3  22.4 kgm at 1750-2750rpm    5.0  \n",
       "4     11.5@ 4,500(kgm@ rpm)    5.0  "
      ]
     },
     "execution_count": 2,
     "metadata": {},
     "output_type": "execute_result"
    }
   ],
   "source": [
    "df.head()"
   ]
  },
  {
   "cell_type": "code",
   "execution_count": 3,
   "id": "ba4915c7",
   "metadata": {},
   "outputs": [
    {
     "data": {
      "text/plain": [
       "(8128, 13)"
      ]
     },
     "execution_count": 3,
     "metadata": {},
     "output_type": "execute_result"
    }
   ],
   "source": [
    "#Check amount of data\n",
    "df.shape"
   ]
  },
  {
   "cell_type": "code",
   "execution_count": 4,
   "id": "0af1c2e8",
   "metadata": {},
   "outputs": [
    {
     "data": {
      "text/html": [
       "<div>\n",
       "<style scoped>\n",
       "    .dataframe tbody tr th:only-of-type {\n",
       "        vertical-align: middle;\n",
       "    }\n",
       "\n",
       "    .dataframe tbody tr th {\n",
       "        vertical-align: top;\n",
       "    }\n",
       "\n",
       "    .dataframe thead th {\n",
       "        text-align: right;\n",
       "    }\n",
       "</style>\n",
       "<table border=\"1\" class=\"dataframe\">\n",
       "  <thead>\n",
       "    <tr style=\"text-align: right;\">\n",
       "      <th></th>\n",
       "      <th>year</th>\n",
       "      <th>selling_price</th>\n",
       "      <th>km_driven</th>\n",
       "      <th>seats</th>\n",
       "    </tr>\n",
       "  </thead>\n",
       "  <tbody>\n",
       "    <tr>\n",
       "      <th>count</th>\n",
       "      <td>8128.000000</td>\n",
       "      <td>8.128000e+03</td>\n",
       "      <td>8.128000e+03</td>\n",
       "      <td>7907.000000</td>\n",
       "    </tr>\n",
       "    <tr>\n",
       "      <th>mean</th>\n",
       "      <td>2013.804011</td>\n",
       "      <td>6.382718e+05</td>\n",
       "      <td>6.981951e+04</td>\n",
       "      <td>5.416719</td>\n",
       "    </tr>\n",
       "    <tr>\n",
       "      <th>std</th>\n",
       "      <td>4.044249</td>\n",
       "      <td>8.062534e+05</td>\n",
       "      <td>5.655055e+04</td>\n",
       "      <td>0.959588</td>\n",
       "    </tr>\n",
       "    <tr>\n",
       "      <th>min</th>\n",
       "      <td>1983.000000</td>\n",
       "      <td>2.999900e+04</td>\n",
       "      <td>1.000000e+00</td>\n",
       "      <td>2.000000</td>\n",
       "    </tr>\n",
       "    <tr>\n",
       "      <th>25%</th>\n",
       "      <td>2011.000000</td>\n",
       "      <td>2.549990e+05</td>\n",
       "      <td>3.500000e+04</td>\n",
       "      <td>5.000000</td>\n",
       "    </tr>\n",
       "    <tr>\n",
       "      <th>50%</th>\n",
       "      <td>2015.000000</td>\n",
       "      <td>4.500000e+05</td>\n",
       "      <td>6.000000e+04</td>\n",
       "      <td>5.000000</td>\n",
       "    </tr>\n",
       "    <tr>\n",
       "      <th>75%</th>\n",
       "      <td>2017.000000</td>\n",
       "      <td>6.750000e+05</td>\n",
       "      <td>9.800000e+04</td>\n",
       "      <td>5.000000</td>\n",
       "    </tr>\n",
       "    <tr>\n",
       "      <th>max</th>\n",
       "      <td>2020.000000</td>\n",
       "      <td>1.000000e+07</td>\n",
       "      <td>2.360457e+06</td>\n",
       "      <td>14.000000</td>\n",
       "    </tr>\n",
       "  </tbody>\n",
       "</table>\n",
       "</div>"
      ],
      "text/plain": [
       "              year  selling_price     km_driven        seats\n",
       "count  8128.000000   8.128000e+03  8.128000e+03  7907.000000\n",
       "mean   2013.804011   6.382718e+05  6.981951e+04     5.416719\n",
       "std       4.044249   8.062534e+05  5.655055e+04     0.959588\n",
       "min    1983.000000   2.999900e+04  1.000000e+00     2.000000\n",
       "25%    2011.000000   2.549990e+05  3.500000e+04     5.000000\n",
       "50%    2015.000000   4.500000e+05  6.000000e+04     5.000000\n",
       "75%    2017.000000   6.750000e+05  9.800000e+04     5.000000\n",
       "max    2020.000000   1.000000e+07  2.360457e+06    14.000000"
      ]
     },
     "execution_count": 4,
     "metadata": {},
     "output_type": "execute_result"
    }
   ],
   "source": [
    "df.describe()"
   ]
  },
  {
   "cell_type": "code",
   "execution_count": 5,
   "id": "0fe82440",
   "metadata": {},
   "outputs": [
    {
     "name": "stdout",
     "output_type": "stream",
     "text": [
      "<class 'pandas.core.frame.DataFrame'>\n",
      "RangeIndex: 8128 entries, 0 to 8127\n",
      "Data columns (total 13 columns):\n",
      " #   Column         Non-Null Count  Dtype  \n",
      "---  ------         --------------  -----  \n",
      " 0   name           8128 non-null   object \n",
      " 1   year           8128 non-null   int64  \n",
      " 2   selling_price  8128 non-null   int64  \n",
      " 3   km_driven      8128 non-null   int64  \n",
      " 4   fuel           8128 non-null   object \n",
      " 5   seller_type    8128 non-null   object \n",
      " 6   transmission   8128 non-null   object \n",
      " 7   owner          8128 non-null   object \n",
      " 8   mileage        7907 non-null   object \n",
      " 9   engine         7907 non-null   object \n",
      " 10  max_power      7913 non-null   object \n",
      " 11  torque         7906 non-null   object \n",
      " 12  seats          7907 non-null   float64\n",
      "dtypes: float64(1), int64(3), object(9)\n",
      "memory usage: 825.6+ KB\n"
     ]
    }
   ],
   "source": [
    "df.info()"
   ]
  },
  {
   "cell_type": "code",
   "execution_count": 6,
   "id": "f1d0aad2",
   "metadata": {},
   "outputs": [
    {
     "data": {
      "text/plain": [
       "Index(['name', 'year', 'selling_price', 'km_driven', 'fuel', 'seller_type',\n",
       "       'transmission', 'owner', 'mileage', 'engine', 'max_power', 'torque',\n",
       "       'seats'],\n",
       "      dtype='object')"
      ]
     },
     "execution_count": 6,
     "metadata": {},
     "output_type": "execute_result"
    }
   ],
   "source": [
    "df.columns"
   ]
  },
  {
   "cell_type": "markdown",
   "id": "78a51d00",
   "metadata": {},
   "source": [
    "## Feature Mapping"
   ]
  },
  {
   "cell_type": "code",
   "execution_count": 7,
   "id": "e595d251",
   "metadata": {},
   "outputs": [
    {
     "data": {
      "text/plain": [
       "array([1, 2, 3, 4, 5])"
      ]
     },
     "execution_count": 7,
     "metadata": {},
     "output_type": "execute_result"
    }
   ],
   "source": [
    "#Data Mapping, First Owner = 1, ... , Test Drive Car = 5\n",
    "df[\"owner\"].unique()\n",
    "\n",
    "mapping = {\"First Owner\" : 1, \"Second Owner\" : 2, \"Third Owner\" : 3, \"Fourth & Above Owner\" : 4, \"Test Drive Car\" : 5}\n",
    "\n",
    "df[\"owner\"] = df[\"owner\"].map(mapping)\n",
    "\n",
    "df[\"owner\"].unique()"
   ]
  },
  {
   "cell_type": "code",
   "execution_count": 8,
   "id": "65f40f03",
   "metadata": {},
   "outputs": [],
   "source": [
    "df = df[~df[\"fuel\"].isin([\"CNG\", \"LPG\"])]"
   ]
  },
  {
   "cell_type": "code",
   "execution_count": 9,
   "id": "7b11a3ed",
   "metadata": {},
   "outputs": [],
   "source": [
    "df[\"mileage\"] = df[\"mileage\"].str.split().str[0]\n",
    "\n",
    "df[\"mileage\"] = df[\"mileage\"].astype(float)"
   ]
  },
  {
   "cell_type": "code",
   "execution_count": 10,
   "id": "fe8cface",
   "metadata": {},
   "outputs": [],
   "source": [
    "df[\"engine\"] = df[\"engine\"].str.split().str[0]\n",
    "\n",
    "df[\"engine\"] = df[\"engine\"].astype(float)"
   ]
  },
  {
   "cell_type": "code",
   "execution_count": 11,
   "id": "3c1a56eb",
   "metadata": {},
   "outputs": [],
   "source": [
    "df[\"max_power\"] = df[\"max_power\"].str.split().str[0]\n",
    "\n",
    "df[\"max_power\"] = df[\"max_power\"].astype(float)"
   ]
  },
  {
   "cell_type": "code",
   "execution_count": 12,
   "id": "b6179570",
   "metadata": {},
   "outputs": [],
   "source": [
    "df[\"name\"] = df[\"name\"].str.split(\" \").str[0]"
   ]
  },
  {
   "cell_type": "code",
   "execution_count": 13,
   "id": "03995424",
   "metadata": {},
   "outputs": [],
   "source": [
    "df = df.drop(columns=['torque'])"
   ]
  },
  {
   "cell_type": "code",
   "execution_count": 14,
   "id": "9a948000",
   "metadata": {},
   "outputs": [],
   "source": [
    "df = df[df['owner'] != 5]"
   ]
  },
  {
   "cell_type": "code",
   "execution_count": 15,
   "id": "751afb96",
   "metadata": {},
   "outputs": [],
   "source": [
    "y = np.log(df['selling_price'])"
   ]
  },
  {
   "cell_type": "code",
   "execution_count": 16,
   "id": "84ded19f",
   "metadata": {},
   "outputs": [
    {
     "data": {
      "text/html": [
       "<div>\n",
       "<style scoped>\n",
       "    .dataframe tbody tr th:only-of-type {\n",
       "        vertical-align: middle;\n",
       "    }\n",
       "\n",
       "    .dataframe tbody tr th {\n",
       "        vertical-align: top;\n",
       "    }\n",
       "\n",
       "    .dataframe thead th {\n",
       "        text-align: right;\n",
       "    }\n",
       "</style>\n",
       "<table border=\"1\" class=\"dataframe\">\n",
       "  <thead>\n",
       "    <tr style=\"text-align: right;\">\n",
       "      <th></th>\n",
       "      <th>name</th>\n",
       "      <th>year</th>\n",
       "      <th>selling_price</th>\n",
       "      <th>km_driven</th>\n",
       "      <th>fuel</th>\n",
       "      <th>seller_type</th>\n",
       "      <th>transmission</th>\n",
       "      <th>owner</th>\n",
       "      <th>mileage</th>\n",
       "      <th>engine</th>\n",
       "      <th>max_power</th>\n",
       "      <th>seats</th>\n",
       "    </tr>\n",
       "  </thead>\n",
       "  <tbody>\n",
       "    <tr>\n",
       "      <th>0</th>\n",
       "      <td>Maruti</td>\n",
       "      <td>2014</td>\n",
       "      <td>450000</td>\n",
       "      <td>145500</td>\n",
       "      <td>Diesel</td>\n",
       "      <td>Individual</td>\n",
       "      <td>Manual</td>\n",
       "      <td>1</td>\n",
       "      <td>23.40</td>\n",
       "      <td>1248.0</td>\n",
       "      <td>74.00</td>\n",
       "      <td>5.0</td>\n",
       "    </tr>\n",
       "    <tr>\n",
       "      <th>1</th>\n",
       "      <td>Skoda</td>\n",
       "      <td>2014</td>\n",
       "      <td>370000</td>\n",
       "      <td>120000</td>\n",
       "      <td>Diesel</td>\n",
       "      <td>Individual</td>\n",
       "      <td>Manual</td>\n",
       "      <td>2</td>\n",
       "      <td>21.14</td>\n",
       "      <td>1498.0</td>\n",
       "      <td>103.52</td>\n",
       "      <td>5.0</td>\n",
       "    </tr>\n",
       "    <tr>\n",
       "      <th>2</th>\n",
       "      <td>Honda</td>\n",
       "      <td>2006</td>\n",
       "      <td>158000</td>\n",
       "      <td>140000</td>\n",
       "      <td>Petrol</td>\n",
       "      <td>Individual</td>\n",
       "      <td>Manual</td>\n",
       "      <td>3</td>\n",
       "      <td>17.70</td>\n",
       "      <td>1497.0</td>\n",
       "      <td>78.00</td>\n",
       "      <td>5.0</td>\n",
       "    </tr>\n",
       "    <tr>\n",
       "      <th>3</th>\n",
       "      <td>Hyundai</td>\n",
       "      <td>2010</td>\n",
       "      <td>225000</td>\n",
       "      <td>127000</td>\n",
       "      <td>Diesel</td>\n",
       "      <td>Individual</td>\n",
       "      <td>Manual</td>\n",
       "      <td>1</td>\n",
       "      <td>23.00</td>\n",
       "      <td>1396.0</td>\n",
       "      <td>90.00</td>\n",
       "      <td>5.0</td>\n",
       "    </tr>\n",
       "    <tr>\n",
       "      <th>4</th>\n",
       "      <td>Maruti</td>\n",
       "      <td>2007</td>\n",
       "      <td>130000</td>\n",
       "      <td>120000</td>\n",
       "      <td>Petrol</td>\n",
       "      <td>Individual</td>\n",
       "      <td>Manual</td>\n",
       "      <td>1</td>\n",
       "      <td>16.10</td>\n",
       "      <td>1298.0</td>\n",
       "      <td>88.20</td>\n",
       "      <td>5.0</td>\n",
       "    </tr>\n",
       "  </tbody>\n",
       "</table>\n",
       "</div>"
      ],
      "text/plain": [
       "      name  year  selling_price  km_driven    fuel seller_type transmission  \\\n",
       "0   Maruti  2014         450000     145500  Diesel  Individual       Manual   \n",
       "1    Skoda  2014         370000     120000  Diesel  Individual       Manual   \n",
       "2    Honda  2006         158000     140000  Petrol  Individual       Manual   \n",
       "3  Hyundai  2010         225000     127000  Diesel  Individual       Manual   \n",
       "4   Maruti  2007         130000     120000  Petrol  Individual       Manual   \n",
       "\n",
       "   owner  mileage  engine  max_power  seats  \n",
       "0      1    23.40  1248.0      74.00    5.0  \n",
       "1      2    21.14  1498.0     103.52    5.0  \n",
       "2      3    17.70  1497.0      78.00    5.0  \n",
       "3      1    23.00  1396.0      90.00    5.0  \n",
       "4      1    16.10  1298.0      88.20    5.0  "
      ]
     },
     "execution_count": 16,
     "metadata": {},
     "output_type": "execute_result"
    }
   ],
   "source": [
    "df.head()"
   ]
  },
  {
   "cell_type": "code",
   "execution_count": 17,
   "id": "d9da676d",
   "metadata": {},
   "outputs": [
    {
     "data": {
      "text/plain": [
       "Index(['name', 'year', 'selling_price', 'km_driven', 'fuel', 'seller_type',\n",
       "       'transmission', 'owner', 'mileage', 'engine', 'max_power', 'seats'],\n",
       "      dtype='object')"
      ]
     },
     "execution_count": 17,
     "metadata": {},
     "output_type": "execute_result"
    }
   ],
   "source": [
    "df.columns"
   ]
  },
  {
   "cell_type": "code",
   "execution_count": 18,
   "id": "bb01b01f",
   "metadata": {},
   "outputs": [
    {
     "data": {
      "text/plain": [
       "Index(['brand', 'year', 'selling_price', 'km_driven', 'fuel', 'seller_type',\n",
       "       'transmission', 'owner', 'mileage', 'engine', 'max_power', 'seats'],\n",
       "      dtype='object')"
      ]
     },
     "execution_count": 18,
     "metadata": {},
     "output_type": "execute_result"
    }
   ],
   "source": [
    "#renaming column 'name' to 'brand'\n",
    "df.rename(columns= {\n",
    "    'name': 'brand'}, inplace= True)\n",
    "\n",
    "df.columns"
   ]
  },
  {
   "cell_type": "markdown",
   "id": "af06e260",
   "metadata": {},
   "source": [
    "## Univariate Analysis"
   ]
  },
  {
   "cell_type": "code",
   "execution_count": 19,
   "id": "20ee0939",
   "metadata": {},
   "outputs": [
    {
     "data": {
      "text/plain": [
       "<Axes: xlabel='owner', ylabel='count'>"
      ]
     },
     "execution_count": 19,
     "metadata": {},
     "output_type": "execute_result"
    },
    {
     "data": {
      "image/png": "[encoded data removed]",
      "text/plain": [
       "<Figure size 640x480 with 1 Axes>"
      ]
     },
     "metadata": {},
     "output_type": "display_data"
    }
   ],
   "source": [
    "#How many different owners are there?\n",
    "sns.countplot(data = df, x = 'owner')"
   ]
  },
  {
   "cell_type": "code",
   "execution_count": 20,
   "id": "df76342e",
   "metadata": {},
   "outputs": [
    {
     "data": {
      "text/plain": [
       "<seaborn.axisgrid.FacetGrid at 0x2ddc18a27b0>"
      ]
     },
     "execution_count": 20,
     "metadata": {},
     "output_type": "execute_result"
    },
    {
     "data": {
      "image/png": "[encoded data removed]",
      "text/plain": [
       "<Figure size 500x500 with 1 Axes>"
      ]
     },
     "metadata": {},
     "output_type": "display_data"
    }
   ],
   "source": [
    "sns.displot(data = df, x = 'fuel')"
   ]
  },
  {
   "cell_type": "code",
   "execution_count": 21,
   "id": "672fa4c6",
   "metadata": {},
   "outputs": [
    {
     "data": {
      "text/plain": [
       "Text(0.5, 0, 'Fuel')"
      ]
     },
     "execution_count": 21,
     "metadata": {},
     "output_type": "execute_result"
    },
    {
     "data": {
      "image/png": "[encoded data removed]",
      "text/plain": [
       "<Figure size 640x480 with 1 Axes>"
      ]
     },
     "metadata": {},
     "output_type": "display_data"
    }
   ],
   "source": [
    "#Multivariate Analysis\n",
    "sns.boxplot(x = df[\"fuel\"], y = df[\"mileage\"]);\n",
    "plt.ylabel(\"Mileage\")\n",
    "plt.xlabel(\"Fuel\")"
   ]
  },
  {
   "cell_type": "code",
   "execution_count": 22,
   "id": "adc6a605",
   "metadata": {},
   "outputs": [
    {
     "data": {
      "text/plain": [
       "<Axes: xlabel='mileage', ylabel='selling_price'>"
      ]
     },
     "execution_count": 22,
     "metadata": {},
     "output_type": "execute_result"
    },
    {
     "data": {
      "image/png": "[encoded data removed]",
      "text/plain": [
       "<Figure size 640x480 with 1 Axes>"
      ]
     },
     "metadata": {},
     "output_type": "display_data"
    }
   ],
   "source": [
    "sns.scatterplot(x = df['mileage'], y = df['selling_price'], hue=df['fuel'])"
   ]
  },
  {
   "cell_type": "code",
   "execution_count": 23,
   "id": "458ec003",
   "metadata": {},
   "outputs": [],
   "source": [
    "from sklearn.preprocessing import LabelEncoder\n",
    "#do label encoding for fuel\n",
    "le = LabelEncoder()\n",
    "df['fuel'] = le.fit_transform(df['fuel'])\n",
    "\n",
    "#do label encoding for transmission\n",
    "le = LabelEncoder()\n",
    "df['transmission'] = le.fit_transform(df['transmission'])"
   ]
  },
  {
   "cell_type": "markdown",
   "id": "813059cd",
   "metadata": {},
   "source": [
    "## Heat Map"
   ]
  },
  {
   "cell_type": "code",
   "execution_count": 24,
   "id": "0d95e76d",
   "metadata": {},
   "outputs": [
    {
     "data": {
      "text/plain": [
       "<Axes: >"
      ]
     },
     "execution_count": 24,
     "metadata": {},
     "output_type": "execute_result"
    },
    {
     "data": {
      "image/png": "[encoded data removed]",
      "text/plain": [
       "<Figure size 1500x800 with 2 Axes>"
      ]
     },
     "metadata": {},
     "output_type": "display_data"
    }
   ],
   "source": [
    "#drop brand columns\n",
    "df = df.drop(columns=['brand'])\n",
    "\n",
    "# Drop the original 'seller_type' column if it's no longer needed\n",
    "df = df.drop(columns=['seller_type'])\n",
    "\n",
    "# Drop the original 'seats' column if it's no longer needed\n",
    "df = df.drop(columns=['seats'])\n",
    "\n",
    "# Let's check out heatmap\n",
    "plt.figure(figsize = (15,8))\n",
    "sns.heatmap(df.corr(), annot=True, cmap=\"coolwarm\")"
   ]
  },
  {
   "cell_type": "markdown",
   "id": "2d9fe21a",
   "metadata": {},
   "source": [
    "## Null Values"
   ]
  },
  {
   "cell_type": "code",
   "execution_count": 25,
   "id": "51359512",
   "metadata": {},
   "outputs": [
    {
     "data": {
      "text/plain": [
       "year               0\n",
       "selling_price      0\n",
       "km_driven          0\n",
       "fuel               0\n",
       "transmission       0\n",
       "owner              0\n",
       "mileage          214\n",
       "engine           214\n",
       "max_power        208\n",
       "dtype: int64"
      ]
     },
     "execution_count": 25,
     "metadata": {},
     "output_type": "execute_result"
    }
   ],
   "source": [
    "#Check for Null Values\n",
    "df.isna().sum()"
   ]
  },
  {
   "cell_type": "code",
   "execution_count": 26,
   "id": "fa13bafd",
   "metadata": {},
   "outputs": [
    {
     "data": {
      "text/plain": [
       "<seaborn.axisgrid.FacetGrid at 0x2ddc26a07d0>"
      ]
     },
     "execution_count": 26,
     "metadata": {},
     "output_type": "execute_result"
    },
    {
     "data": {
      "image/png": "[encoded data removed]",
      "text/plain": [
       "<Figure size 500x500 with 1 Axes>"
      ]
     },
     "metadata": {},
     "output_type": "display_data"
    }
   ],
   "source": [
    "sns.displot(df.mileage)"
   ]
  },
  {
   "cell_type": "code",
   "execution_count": 27,
   "id": "7ae883d2",
   "metadata": {},
   "outputs": [
    {
     "name": "stderr",
     "output_type": "stream",
     "text": [
      "C:\\Users\\ADMIN\\AppData\\Local\\Temp\\ipykernel_26464\\2088284964.py:3: FutureWarning: A value is trying to be set on a copy of a DataFrame or Series through chained assignment using an inplace method.\n",
      "The behavior will change in pandas 3.0. This inplace method will never work because the intermediate object on which we are setting values always behaves as a copy.\n",
      "\n",
      "For example, when doing 'df[col].method(value, inplace=True)', try using 'df.method({col: value}, inplace=True)' or df[col] = df[col].method(value) instead, to perform the operation inplace on the original object.\n",
      "\n",
      "\n",
      "  df['mileage'].fillna(df['mileage'].mean(), inplace=True)\n"
     ]
    }
   ],
   "source": [
    "#Fill out mileage with mean\n",
    "\n",
    "df['mileage'].fillna(df['mileage'].mean(), inplace=True)"
   ]
  },
  {
   "cell_type": "code",
   "execution_count": 28,
   "id": "cd5712be",
   "metadata": {},
   "outputs": [
    {
     "data": {
      "text/plain": [
       "<seaborn.axisgrid.FacetGrid at 0x2ddc21dfed0>"
      ]
     },
     "execution_count": 28,
     "metadata": {},
     "output_type": "execute_result"
    },
    {
     "data": {
      "image/png": "[encoded data removed]",
      "text/plain": [
       "<Figure size 500x500 with 1 Axes>"
      ]
     },
     "metadata": {},
     "output_type": "display_data"
    }
   ],
   "source": [
    "sns.displot(df.engine)"
   ]
  },
  {
   "cell_type": "code",
   "execution_count": 29,
   "id": "f6096414",
   "metadata": {},
   "outputs": [
    {
     "name": "stderr",
     "output_type": "stream",
     "text": [
      "C:\\Users\\ADMIN\\AppData\\Local\\Temp\\ipykernel_26464\\2990182329.py:3: FutureWarning: A value is trying to be set on a copy of a DataFrame or Series through chained assignment using an inplace method.\n",
      "The behavior will change in pandas 3.0. This inplace method will never work because the intermediate object on which we are setting values always behaves as a copy.\n",
      "\n",
      "For example, when doing 'df[col].method(value, inplace=True)', try using 'df.method({col: value}, inplace=True)' or df[col] = df[col].method(value) instead, to perform the operation inplace on the original object.\n",
      "\n",
      "\n",
      "  df['engine'].fillna(df['engine'].median(), inplace=True)\n"
     ]
    }
   ],
   "source": [
    "#Fill out engine with median\n",
    "\n",
    "df['engine'].fillna(df['engine'].median(), inplace=True)"
   ]
  },
  {
   "cell_type": "code",
   "execution_count": 30,
   "id": "766df663",
   "metadata": {},
   "outputs": [
    {
     "data": {
      "text/plain": [
       "<seaborn.axisgrid.FacetGrid at 0x2ddc2247ed0>"
      ]
     },
     "execution_count": 30,
     "metadata": {},
     "output_type": "execute_result"
    },
    {
     "data": {
      "image/png": "[encoded data removed]",
      "text/plain": [
       "<Figure size 500x500 with 1 Axes>"
      ]
     },
     "metadata": {},
     "output_type": "display_data"
    }
   ],
   "source": [
    "sns.displot(df.max_power)"
   ]
  },
  {
   "cell_type": "code",
   "execution_count": 31,
   "id": "56ab50b6",
   "metadata": {},
   "outputs": [
    {
     "name": "stderr",
     "output_type": "stream",
     "text": [
      "C:\\Users\\ADMIN\\AppData\\Local\\Temp\\ipykernel_26464\\1770132938.py:3: FutureWarning: A value is trying to be set on a copy of a DataFrame or Series through chained assignment using an inplace method.\n",
      "The behavior will change in pandas 3.0. This inplace method will never work because the intermediate object on which we are setting values always behaves as a copy.\n",
      "\n",
      "For example, when doing 'df[col].method(value, inplace=True)', try using 'df.method({col: value}, inplace=True)' or df[col] = df[col].method(value) instead, to perform the operation inplace on the original object.\n",
      "\n",
      "\n",
      "  df['max_power'].fillna(df['max_power'].median(), inplace=True)\n"
     ]
    }
   ],
   "source": [
    "#Fill out max_power with median\n",
    "\n",
    "df['max_power'].fillna(df['max_power'].median(), inplace=True)"
   ]
  },
  {
   "cell_type": "code",
   "execution_count": 32,
   "id": "30ca7a10",
   "metadata": {},
   "outputs": [
    {
     "data": {
      "text/plain": [
       "year             0\n",
       "selling_price    0\n",
       "km_driven        0\n",
       "fuel             0\n",
       "transmission     0\n",
       "owner            0\n",
       "mileage          0\n",
       "engine           0\n",
       "max_power        0\n",
       "dtype: int64"
      ]
     },
     "execution_count": 32,
     "metadata": {},
     "output_type": "execute_result"
    }
   ],
   "source": [
    "#check the missing value in df data set\n",
    "df.isna().sum()"
   ]
  },
  {
   "cell_type": "markdown",
   "id": "2ce9d01d",
   "metadata": {},
   "source": [
    "## Modeling"
   ]
  },
  {
   "cell_type": "code",
   "execution_count": 33,
   "id": "586a7ea7",
   "metadata": {},
   "outputs": [
    {
     "data": {
      "text/plain": [
       "<Experiment: artifact_location='file:///d:/A2_Car_Price/mlruns/528916820797049174', creation_time=1757423799310, experiment_id='528916820797049174', last_update_time=1757423799310, lifecycle_stage='active', name='takdanai-regularization-example', tags={}>"
      ]
     },
     "execution_count": 33,
     "metadata": {},
     "output_type": "execute_result"
    }
   ],
   "source": [
    "import mlflow\n",
    "import mlflow.sklearn\n",
    "\n",
    "import os\n",
    "# This the dockerized method.\n",
    "# We build two docker containers, one for python/jupyter and another for mlflow.\n",
    "# The url `mlflow` is resolved into another container within the same composer.\n",
    "#mlflow.set_tracking_uri(\"http://localhost:5000\")\n",
    "# In the dockerized way, the user who runs this code will be `root`.\n",
    "# The MLflow will also log the run user_id as `root`.\n",
    "# To change that, we need to set this environ[\"LOGNAME\"] to your name.\n",
    "os.environ[\"LOGNAME\"] = \"takdanai\"\n",
    "#mlflow.create_experiment(name=\"takdanai-regularization-example\")  #create if you haven't create\n",
    "mlflow.set_experiment(experiment_name=\"takdanai-regularization-example\")"
   ]
  },
  {
   "cell_type": "code",
   "execution_count": 34,
   "id": "de5586a6",
   "metadata": {},
   "outputs": [],
   "source": [
    "#x is our strong features\n",
    "X = df[[\"year\", \"mileage\", \"km_driven\", \"owner\"]]\n",
    "\n",
    "#y is simply the life expectancy col\n",
    "y = np.log(df['selling_price'])"
   ]
  },
  {
   "cell_type": "markdown",
   "id": "4dc541ad",
   "metadata": {},
   "source": [
    "Train Test Split"
   ]
  },
  {
   "cell_type": "code",
   "execution_count": 35,
   "id": "44302a09",
   "metadata": {},
   "outputs": [],
   "source": [
    "from sklearn.model_selection import train_test_split\n",
    "\n",
    "X_train, X_test, y_train, y_test = train_test_split(X, y, test_size = 0.3, random_state = 42)"
   ]
  },
  {
   "cell_type": "code",
   "execution_count": 36,
   "id": "a0976056",
   "metadata": {},
   "outputs": [
    {
     "data": {
      "image/png": "[encoded data removed]",
      "text/plain": [
       "<Figure size 2000x3000 with 4 Axes>"
      ]
     },
     "metadata": {},
     "output_type": "display_data"
    }
   ],
   "source": [
    "#Check Outliers:\n",
    "\n",
    "# Create a dictionary of columns.\n",
    "col_dict = {'year':1,'mileage':2, \"km_driven\":3, \"owner\":4}\n",
    "\n",
    "# Detect outliers in each variable using box plots.\n",
    "plt.figure(figsize=(20,30))\n",
    "\n",
    "for variable,i in col_dict.items():\n",
    "                     plt.subplot(5,4,i)\n",
    "                     plt.boxplot(X_train[variable])\n",
    "                     plt.title(variable)\n",
    "\n",
    "plt.show()"
   ]
  },
  {
   "cell_type": "code",
   "execution_count": 37,
   "id": "0ac3e519",
   "metadata": {},
   "outputs": [],
   "source": [
    "def outlier_count(col, data = X_train):\n",
    "    \n",
    "    # calculate your 25% quatile and 75% quatile\n",
    "    q75, q25 = np.percentile(data[col], [75, 25])\n",
    "    \n",
    "    # calculate your inter quatile\n",
    "    iqr = q75 - q25\n",
    "    \n",
    "    # min_val and max_val\n",
    "    min_val = q25 - (iqr*1.5)\n",
    "    max_val = q75 + (iqr*1.5)\n",
    "    \n",
    "    # count number of outliers, which are the data that are less than min_val or more than max_val calculated above\n",
    "    outlier_count = len(np.where((data[col] > max_val) | (data[col] < min_val))[0])\n",
    "    \n",
    "    # calculate the percentage of the outliers\n",
    "    outlier_percent = round(outlier_count/len(data[col])*100, 2)\n",
    "    \n",
    "    if(outlier_count > 0):\n",
    "        print(\"\\n\"+15*'-' + col + 15*'-'+\"\\n\")\n",
    "        print('Number of outliers: {}'.format(outlier_count))\n",
    "        print('Percent of data that is outlier: {}%'.format(outlier_percent))"
   ]
  },
  {
   "cell_type": "code",
   "execution_count": 38,
   "id": "0ea86b50",
   "metadata": {},
   "outputs": [
    {
     "name": "stdout",
     "output_type": "stream",
     "text": [
      "\n",
      "---------------year---------------\n",
      "\n",
      "Number of outliers: 145\n",
      "Percent of data that is outlier: 2.58%\n",
      "\n",
      "---------------mileage---------------\n",
      "\n",
      "Number of outliers: 14\n",
      "Percent of data that is outlier: 0.25%\n",
      "\n",
      "---------------km_driven---------------\n",
      "\n",
      "Number of outliers: 102\n",
      "Percent of data that is outlier: 1.82%\n",
      "\n",
      "---------------owner---------------\n",
      "\n",
      "Number of outliers: 110\n",
      "Percent of data that is outlier: 1.96%\n"
     ]
    }
   ],
   "source": [
    "for col in X_train.columns:\n",
    "    outlier_count(col)"
   ]
  },
  {
   "cell_type": "markdown",
   "id": "fdd2f695",
   "metadata": {},
   "source": [
    "## Scaling"
   ]
  },
  {
   "cell_type": "code",
   "execution_count": null,
   "id": "ac71aa97",
   "metadata": {},
   "outputs": [],
   "source": [
    "#Scaling\n",
    "#from sklearn.preprocessing import StandardScaler\n",
    "\n",
    "# feature scaling helps improve reach convergence faster\n",
    "#scaler = StandardScaler()\n",
    "#X_train = scaler.fit_transform(X_train)\n",
    "#X_test  = scaler.transform(X_test)\n",
    "\n",
    "#x = (x - mean) / std\n",
    "#allows your machine learning model to catch the pattern/relationship faster\n",
    "#faster convergence\n",
    "\n",
    "#how many ways to scale\n",
    "#standardardization <====current way\n",
    "# (x - mean) / std\n",
    "#--> when your data follows normal distribution\n",
    "\n",
    "#normalization <---another way\n",
    "# (x - x_min) / (x_max - x_min)\n",
    "#---> when your data DOES NOT follow normal distribution (e.g., audio, signal, image)"
   ]
  },
  {
   "cell_type": "code",
   "execution_count": 40,
   "id": "a3c12811",
   "metadata": {},
   "outputs": [
    {
     "name": "stdout",
     "output_type": "stream",
     "text": [
      "Shape of X_train:  (5619, 4)\n",
      "Shape of X_test:  (2409, 4)\n",
      "Shape of y_train:  (5619,)\n",
      "Shape of y_test:  (2409,)\n"
     ]
    }
   ],
   "source": [
    "# Let's check shapes of all X_train, X_test, y_train, y_test\n",
    "print(\"Shape of X_train: \", X_train.shape)\n",
    "print(\"Shape of X_test: \", X_test.shape)\n",
    "print(\"Shape of y_train: \", y_train.shape)\n",
    "print(\"Shape of y_test: \", y_test.shape)"
   ]
  },
  {
   "cell_type": "code",
   "execution_count": 41,
   "id": "bb983adb",
   "metadata": {},
   "outputs": [],
   "source": [
    "from sklearn.model_selection import KFold\n",
    "\n",
    "class LinearRegression(object):\n",
    "    \n",
    "    #in this class, we add cross validation as well for some spicy code....\n",
    "    kfold = KFold(n_splits=3)\n",
    "            \n",
    "    def __init__(self, regularization, lr=0.001, method='batch', num_epochs=500, batch_size=50, cv=kfold):\n",
    "        self.lr         = lr\n",
    "        self.num_epochs = num_epochs\n",
    "        self.batch_size = batch_size\n",
    "        self.method     = method\n",
    "        self.cv         = cv\n",
    "        self.regularization = regularization\n",
    "\n",
    "    def mse(self, ytrue, ypred):\n",
    "        return ((ypred - ytrue) ** 2).sum() / ytrue.shape[0]\n",
    "    \n",
    "    def r2(self, y_true, y_pred):\n",
    "        ss_total = np.sum((y_true - np.mean(y_true)) ** 2) \n",
    "        ss_residual = np.sum((y_true - y_pred) ** 2)\n",
    "        return 1 - (ss_residual / ss_total)\n",
    "    \n",
    "    def fit(self, X_train, y_train):\n",
    "            \n",
    "        #create a list of kfold scores\n",
    "        self.kfold_scores = list()\n",
    "        \n",
    "        #reset val loss\n",
    "        self.val_loss_old = np.inf\n",
    "\n",
    "        #kfold.split in the sklearn.....\n",
    "        #5 splits\n",
    "        for fold, (train_idx, val_idx) in enumerate(self.cv.split(X_train)):\n",
    "            \n",
    "            X_cross_train = X_train[train_idx]\n",
    "            y_cross_train = y_train[train_idx]\n",
    "            X_cross_val   = X_train[val_idx]\n",
    "            y_cross_val   = y_train[val_idx]\n",
    "            \n",
    "            self.theta = np.zeros(X_cross_train.shape[1])\n",
    "            \n",
    "            #define X_cross_train as only a subset of the data\n",
    "            #how big is this subset?  => mini-batch size ==> 50\n",
    "            \n",
    "            #one epoch will exhaust the WHOLE training set\n",
    "            with mlflow.start_run(run_name=f\"Fold-{fold}\", nested=True):\n",
    "                \n",
    "                params = {\"method\": self.method, \"lr\": self.lr, \"reg\": type(self).__name__}\n",
    "                mlflow.log_params(params=params)\n",
    "                \n",
    "                for epoch in range(self.num_epochs):\n",
    "                \n",
    "                    #with replacement or no replacement\n",
    "                    #with replacement means just randomize\n",
    "                    #with no replacement means 0:50, 51:100, 101:150, ......300:323\n",
    "                    #shuffle your index\n",
    "                    perm = np.random.permutation(X_cross_train.shape[0])\n",
    "                            \n",
    "                    X_cross_train = X_cross_train[perm]\n",
    "                    y_cross_train = y_cross_train[perm]\n",
    "                    \n",
    "                    if self.method == 'sto':\n",
    "                        for batch_idx in range(X_cross_train.shape[0]):\n",
    "                            X_method_train = X_cross_train[batch_idx].reshape(1, -1) #(11,) ==> (1, 11) ==> (m, n)\n",
    "                            y_method_train = y_cross_train[batch_idx] \n",
    "                            train_loss = self._train(X_method_train, y_method_train)\n",
    "                    elif self.method == 'mini':\n",
    "                        for batch_idx in range(0, X_cross_train.shape[0], self.batch_size):\n",
    "                            #batch_idx = 0, 50, 100, 150\n",
    "                            X_method_train = X_cross_train[batch_idx:batch_idx+self.batch_size, :]\n",
    "                            y_method_train = y_cross_train[batch_idx:batch_idx+self.batch_size]\n",
    "                            train_loss = self._train(X_method_train, y_method_train)\n",
    "                    else:\n",
    "                        X_method_train = X_cross_train\n",
    "                        y_method_train = y_cross_train\n",
    "                        train_loss = self._train(X_method_train, y_method_train)\n",
    "\n",
    "                    mlflow.log_metric(key=\"train_loss\", value=train_loss, step=epoch)\n",
    "\n",
    "                    yhat_val = self.predict(X_cross_val)\n",
    "                    val_loss_new = self.mse(y_cross_val, yhat_val)\n",
    "                    mlflow.log_metric(key=\"val_loss\", value=val_loss_new, step=epoch)\n",
    "                    \n",
    "                    #early stopping\n",
    "                    if np.allclose(val_loss_new, self.val_loss_old):\n",
    "                        break\n",
    "                    self.val_loss_old = val_loss_new\n",
    "            \n",
    "                self.kfold_scores.append(val_loss_new)\n",
    "                print(f\"Fold {fold}: {val_loss_new}\")\n",
    "            \n",
    "                    \n",
    "    def _train(self, X, y):\n",
    "        yhat = self.predict(X)\n",
    "        m    = X.shape[0]        \n",
    "        grad = (1/m) * X.T @(yhat - y) + self.regularization.derivation(self.theta)\n",
    "        self.theta = self.theta - self.lr * grad\n",
    "        return self.mse(y, yhat)\n",
    "    \n",
    "    def predict(self, X):\n",
    "        return X @ self.theta  #===>(m, n) @ (n, )\n",
    "    \n",
    "    def _coef(self):\n",
    "        return self.theta[1:] \n",
    "                               \n",
    "    def _bias(self):\n",
    "        return self.theta[0]"
   ]
  },
  {
   "cell_type": "code",
   "execution_count": 42,
   "id": "dbfef98a",
   "metadata": {},
   "outputs": [],
   "source": [
    "class LassoPenalty:\n",
    "    \n",
    "    def __init__(self, l):\n",
    "        self.l = l # lambda value\n",
    "        \n",
    "    def __call__(self, theta): #__call__ allows us to call class as method\n",
    "        return self.l * np.sum(np.abs(theta))\n",
    "        \n",
    "    def derivation(self, theta):\n",
    "        return self.l * np.sign(theta)\n",
    "    \n",
    "class RidgePenalty:\n",
    "    \n",
    "    def __init__(self, l):\n",
    "        self.l = l\n",
    "        \n",
    "    def __call__(self, theta): #__call__ allows us to call class as method\n",
    "        return self.l * np.sum(np.square(theta))\n",
    "        \n",
    "    def derivation(self, theta):\n",
    "        return self.l * 2 * theta\n",
    "    \n",
    "class ElasticPenalty:\n",
    "    \n",
    "    def __init__(self, l = 0.1, l_ratio = 0.5):\n",
    "        self.l = l \n",
    "        self.l_ratio = l_ratio\n",
    "\n",
    "    def __call__(self, theta):  #__call__ allows us to call class as method\n",
    "        l1_contribution = self.l_ratio * self.l * np.sum(np.abs(theta))\n",
    "        l2_contribution = (1 - self.l_ratio) * self.l * 0.5 * np.sum(np.square(theta))\n",
    "        return (l1_contribution + l2_contribution)\n",
    "\n",
    "    def derivation(self, theta):\n",
    "        l1_derivation = self.l * self.l_ratio * np.sign(theta)\n",
    "        l2_derivation = self.l * (1 - self.l_ratio) * theta\n",
    "        return (l1_derivation + l2_derivation)\n",
    "    \n",
    "class Lasso(LinearRegression):\n",
    "    \n",
    "    def __init__(self, method, lr, l):\n",
    "        self.regularization = LassoPenalty(l)\n",
    "        super().__init__(self.regularization, lr, method)\n",
    "        \n",
    "class Ridge(LinearRegression):\n",
    "    \n",
    "    def __init__(self, method, lr, l):\n",
    "        self.regularization = RidgePenalty(l)\n",
    "        super().__init__(self.regularization, lr, method)\n",
    "        \n",
    "class ElasticNet(LinearRegression):\n",
    "    \n",
    "    def __init__(self, method, lr, l, l_ratio=0.5):\n",
    "        self.regularization = ElasticPenalty(l, l_ratio)\n",
    "        super().__init__(self.regularization, lr, method)"
   ]
  },
  {
   "cell_type": "code",
   "execution_count": 43,
   "id": "b03cfc05",
   "metadata": {},
   "outputs": [
    {
     "name": "stdout",
     "output_type": "stream",
     "text": [
      "-0.31622776601683794 0.31622776601683794\n",
      "[ 1.47099127e-02  1.12212688e-01 -2.54091378e-01  7.20015688e-02\n",
      " -9.78752472e-02 -1.45310636e-01  2.38161802e-01  1.64023743e-01\n",
      " -1.59528455e-01 -2.62618772e-01 -2.21615269e-01  7.75125157e-02\n",
      "  1.57765495e-01 -1.88287342e-02 -2.99338873e-01  1.55731130e-01\n",
      "  1.05739383e-01  2.78117668e-01  1.35689117e-01 -1.00401088e-01\n",
      " -7.56665050e-02  3.03106704e-01 -2.19867862e-01 -2.68722316e-01\n",
      "  1.66413819e-01  1.83974218e-01 -2.72666976e-01 -1.39196761e-01\n",
      " -2.90733199e-01 -2.66242694e-01  2.31091762e-02  1.62833222e-01\n",
      "  9.98148030e-02 -1.04426847e-01 -1.95773494e-01 -1.06224933e-01\n",
      "  1.05912826e-01 -3.97388816e-02 -3.00645743e-01  8.73835030e-02\n",
      " -1.25460202e-02  2.42624471e-02 -2.27956793e-02  1.41845124e-01\n",
      "  3.08270034e-01  2.55654428e-02 -1.60630116e-01 -1.50794568e-01\n",
      "  2.18214286e-01  3.15161201e-01  2.56777250e-02  2.92474455e-01\n",
      "  9.55007479e-02  7.66930350e-02  2.60224065e-01  1.77647735e-01\n",
      "  1.09428710e-01  6.92735401e-02  2.50133165e-01  2.13497549e-01\n",
      "  1.45436028e-02  2.67091079e-01  8.56877839e-02 -3.70470821e-02\n",
      "  2.84010173e-02 -1.01517385e-01 -3.02928689e-01 -1.30395273e-01\n",
      "  2.65537039e-01 -9.19778055e-02 -9.05845316e-02 -9.35914734e-02\n",
      " -2.28793765e-01 -2.70836812e-01 -2.50445988e-03  3.00056682e-01\n",
      "  2.09773711e-01  1.78006709e-01  1.27608245e-01 -1.33818528e-01\n",
      " -9.24525689e-02 -1.09563835e-01 -2.68380520e-02  3.15256108e-01\n",
      "  6.02212622e-02  8.72840552e-03 -1.43866705e-01  2.77320667e-01\n",
      "  1.86414552e-01 -2.49211143e-01 -1.33604968e-01  1.65092448e-01\n",
      "  6.13152944e-02 -1.43527411e-01  1.24549212e-01  1.00245684e-01\n",
      "  1.48353633e-01  2.50514579e-01 -5.00129140e-02  1.79450919e-01\n",
      " -9.39504211e-02 -5.63179355e-02  1.75399783e-01  1.59778599e-01\n",
      " -1.30597139e-01 -2.56491382e-01 -2.86974752e-01  4.38541937e-02\n",
      "  3.11610927e-01  2.12190824e-01  2.39827329e-01  1.66262744e-01\n",
      " -1.58061373e-03  1.76349527e-01  1.22555334e-01  1.55233049e-01\n",
      "  8.59617545e-02  2.17875791e-01  1.88686624e-01 -1.57220610e-01\n",
      " -3.62171199e-03  9.88962218e-02 -3.11176602e-01 -1.98410623e-01\n",
      " -2.84751457e-01  1.40305141e-02  1.19820031e-01  2.26590629e-01\n",
      "  2.46683812e-02 -1.88885586e-01 -1.80978443e-01  1.30545027e-01\n",
      "  3.44564915e-02  6.46173601e-02 -2.89558543e-01  8.44324445e-02\n",
      " -1.77003127e-02 -1.83022365e-02 -1.08860645e-01  1.44592810e-02\n",
      "  1.46047235e-01  2.71410215e-01 -2.94191869e-02 -1.80248910e-01\n",
      "  3.08984073e-01 -2.47756112e-01  5.44398624e-02  1.35818847e-03\n",
      " -8.27412513e-02 -1.17652385e-01 -4.39686272e-02 -3.12361671e-01\n",
      " -2.37654819e-01 -1.96089126e-01 -2.58055315e-01  1.92879145e-01\n",
      " -1.37798569e-01 -2.72064251e-01 -2.82332188e-01  2.37941950e-01\n",
      " -1.29198601e-01 -2.45730828e-02 -1.74034219e-01 -1.57131064e-01\n",
      "  2.98090529e-01  3.00582500e-01 -2.08823179e-01 -8.42367060e-02\n",
      " -2.97835637e-01 -1.08934719e-01 -1.30575664e-01  1.73749608e-02\n",
      "  1.58601812e-01 -1.63502515e-01  8.87119223e-02 -2.18730000e-02\n",
      "  2.12744446e-01 -2.02135280e-01  9.20237647e-02  1.60921787e-02\n",
      " -4.32219720e-02 -1.58406833e-01 -1.89071914e-01  1.67889028e-02\n",
      " -6.00792557e-02  2.71200995e-01 -2.52538527e-01 -5.29127080e-02\n",
      " -8.75720620e-02 -1.58203402e-01  8.85076120e-02 -6.68258284e-03\n",
      " -1.90317259e-01  1.71861867e-01  1.64353521e-01  1.77340844e-01\n",
      " -4.77693480e-02  7.71633833e-03 -1.50591908e-01 -1.83370914e-01\n",
      "  2.76953402e-01 -2.96358573e-01 -1.51548661e-01  1.15845814e-01\n",
      "  2.42870331e-02  2.36293954e-01  2.47241642e-01 -1.56964044e-01\n",
      " -2.72890554e-01 -3.06775179e-01  2.40929376e-01  1.55427016e-01\n",
      "  6.07592050e-02 -1.98719371e-01 -1.98799782e-01 -1.48701896e-01\n",
      " -1.49581391e-01  2.86514421e-02  1.11681522e-01  9.13448487e-02\n",
      "  1.86731957e-01 -6.03289498e-02 -8.93549685e-02  2.61915619e-01\n",
      " -4.36525557e-02 -7.10602405e-02  1.26656797e-01 -2.40025433e-01\n",
      " -2.10733568e-01 -2.32458270e-01  2.70500456e-01 -1.74591674e-01\n",
      "  1.27684487e-01 -3.15465189e-01 -4.57402042e-02 -1.27873692e-01\n",
      " -3.84423377e-02  1.18749042e-01  2.19390969e-01 -1.28060069e-01\n",
      " -2.90842835e-01  6.08321529e-03  2.52650309e-01 -1.08040142e-01\n",
      " -1.01053586e-01 -2.87212520e-01  1.05485710e-01 -2.66789303e-01\n",
      "  3.10652764e-01  1.98965174e-01  1.21958993e-01 -1.32308697e-01\n",
      "  1.34296621e-01  2.54258697e-01  7.70518121e-02  1.68684425e-01\n",
      "  1.94967776e-01 -1.56920927e-01 -1.09581080e-01 -6.19527673e-02\n",
      " -2.88261002e-01  5.61598801e-02 -2.19540037e-01 -2.61745142e-01\n",
      "  5.12409924e-02 -1.13865791e-01 -2.47505453e-01 -1.73932808e-01\n",
      " -2.86280827e-01 -2.50088774e-01 -9.00384227e-02  1.28814566e-01\n",
      " -1.01017083e-01  2.61670257e-01  8.66091386e-02  2.46508482e-01\n",
      " -2.82221154e-01 -2.77867704e-01 -1.45737230e-01  7.23013979e-02\n",
      "  1.92039697e-01  1.36883413e-01  1.31515815e-02  2.92409580e-01\n",
      " -2.13789132e-01 -1.76000272e-01  2.20905288e-01  2.41240136e-01\n",
      "  2.66938012e-01 -1.70096552e-01  8.89330445e-02 -9.69836679e-02\n",
      " -2.36336692e-01  2.02688864e-01 -1.20595136e-01 -1.48147702e-01\n",
      " -1.77338979e-01 -1.27434732e-01 -3.08981964e-01  6.92062203e-02\n",
      " -4.60905286e-02  2.91151370e-02 -3.01033961e-01 -1.39105886e-01\n",
      " -1.03967565e-01  6.13605740e-02 -1.96279644e-02 -5.94452470e-02\n",
      " -2.01780643e-01  2.84884681e-01 -2.69897542e-01 -2.10778990e-01\n",
      " -2.48745406e-01 -2.68148443e-01 -1.12349705e-01 -2.51772087e-01\n",
      " -7.07547362e-02 -2.91274271e-01  2.16332559e-01  3.13778161e-01\n",
      " -2.06134389e-01 -1.40257794e-01 -2.78851983e-01 -1.72067240e-01\n",
      " -2.76570031e-01  2.93991626e-01  1.53081136e-01 -1.81440563e-02\n",
      " -1.86383438e-01 -1.21383790e-01  3.67480205e-02  1.09142161e-01\n",
      "  2.74784315e-01  2.08011696e-01 -2.90490585e-01  2.55192949e-02\n",
      " -1.87009821e-01 -2.90833721e-01  1.60009052e-02  3.07970773e-01\n",
      " -2.84780786e-01  3.11184398e-01 -1.62719286e-02 -5.55665013e-02\n",
      " -1.51959832e-01 -5.52430557e-02 -1.44525882e-02  8.46059832e-02\n",
      " -7.92616033e-02 -1.58299215e-01 -1.29530629e-01 -2.07863780e-01\n",
      " -1.19528396e-01 -7.30539991e-02 -1.06920960e-01 -2.21558651e-01\n",
      "  3.12838092e-01  1.99304421e-01  3.10274622e-01  1.20600909e-01\n",
      "  1.19031201e-01 -2.34971443e-01 -2.17885573e-01 -1.61656108e-01\n",
      "  2.03918817e-01 -1.31933671e-01 -2.81855804e-01 -2.10477322e-01\n",
      "  2.69395158e-01  1.19817997e-01  2.43425011e-03 -2.28590169e-01\n",
      " -4.93243531e-02 -1.20790887e-01  1.73490146e-02  2.84797079e-01\n",
      "  4.47284384e-02 -8.23526896e-02  1.32206328e-01 -2.13183326e-01\n",
      "  1.70725530e-01 -2.31030952e-01  2.40235847e-01  7.97729950e-02\n",
      "  1.41660606e-01  9.36384446e-02  1.11897536e-01  2.16561357e-01\n",
      "  1.43653129e-01 -8.68515019e-03 -1.66379303e-01 -1.14851202e-01\n",
      "  1.34599726e-01 -1.38183676e-01  1.50811015e-01  2.97605354e-01\n",
      " -2.50673709e-01  2.97601568e-01 -1.73519986e-01  2.67306985e-01\n",
      "  1.37993191e-01 -2.79674618e-01  4.81248507e-02  1.32543315e-02\n",
      "  1.88244739e-01 -2.22410670e-01  3.06540645e-01  4.33582838e-02\n",
      "  3.05321774e-01 -8.40790258e-02 -9.60017604e-02 -6.62010469e-02\n",
      " -3.99679318e-02  1.74100832e-01  2.53547518e-02 -2.16523640e-01\n",
      " -1.38028546e-01  3.02662544e-01 -2.23370863e-01 -2.80627382e-01\n",
      " -2.53696332e-01  1.56472678e-01 -3.05748695e-01  2.28999849e-01\n",
      "  1.96366777e-01  1.99024873e-01 -1.02532900e-01 -4.16420339e-02\n",
      "  2.49445346e-01 -2.41237262e-01 -2.20050963e-01 -5.93561414e-03\n",
      "  2.43111468e-01  2.13769480e-01  9.12525584e-02 -1.28920806e-01\n",
      " -1.05610791e-01  1.16223572e-01  5.96496206e-02 -9.27626433e-02\n",
      " -1.75577028e-01 -2.79398692e-01 -4.65560791e-02 -9.10813560e-02\n",
      "  1.61350860e-01 -2.90979402e-01 -1.25739663e-01  2.46307801e-01\n",
      "  2.49993721e-01  3.34200605e-02  1.50644761e-01 -5.39580726e-02\n",
      " -2.04247474e-01 -2.64061771e-01 -2.63288696e-01 -1.12112155e-01\n",
      " -2.68757000e-01  2.86303208e-01  1.55809065e-01 -1.58154573e-01\n",
      "  3.91517913e-02 -1.92245536e-01  3.12871174e-01 -1.52806540e-01\n",
      "  1.30574385e-01 -1.87279534e-02  4.46599415e-02 -1.27010483e-01\n",
      " -2.91321841e-02  1.47211530e-01  2.03587396e-01  1.34058195e-04\n",
      "  2.89798423e-02 -1.07814763e-01  1.12611562e-01 -8.81305837e-02\n",
      " -2.37966885e-01  9.79193213e-02 -1.84976055e-02  7.01831542e-02\n",
      " -1.95905922e-01 -2.12956236e-01 -2.55465016e-01 -2.42171946e-01\n",
      "  1.22911462e-01  1.93963353e-01 -2.06617286e-01  2.19821111e-01\n",
      " -3.11925415e-01 -5.24162089e-02 -2.54435978e-01 -2.43637048e-01\n",
      " -2.30860262e-01 -2.76384556e-01  2.77200051e-01  8.16103469e-03\n",
      "  2.50423025e-01  1.49861089e-01  1.80452046e-01  9.19119350e-04\n",
      "  1.10104482e-01  1.84014050e-01  9.80360070e-02 -9.74877959e-02\n",
      " -2.93909656e-01  1.97837087e-01  4.73097425e-02 -2.31492364e-01\n",
      " -9.10295367e-02  1.70942804e-01  2.08120868e-01 -2.34404077e-01\n",
      "  2.32441217e-01  1.77422189e-01  2.68633662e-01  2.71704425e-01\n",
      "  3.10071249e-01  1.58293650e-01  2.13428726e-01 -1.29448666e-01\n",
      "  1.45584419e-01  1.86246009e-01  1.05586011e-01 -1.89032797e-01\n",
      " -1.71712696e-01 -3.02874995e-01 -1.43792350e-02 -9.21728944e-02\n",
      " -9.66680659e-03 -3.15661093e-01  2.90694799e-01 -2.80276809e-03\n",
      "  2.67355875e-01 -8.86451852e-02  2.05030106e-01  2.16624257e-01\n",
      " -2.92262768e-01 -1.49470086e-01 -1.69608813e-01 -2.71206551e-01\n",
      "  2.91393554e-01  1.47229368e-01 -2.72462213e-01  2.16683660e-01\n",
      " -2.12114558e-01  4.06755423e-02  7.21083935e-02 -1.61240875e-01\n",
      " -2.91750640e-01 -8.71657934e-02  1.70721886e-01 -1.92188788e-01\n",
      " -2.17061228e-01 -2.88138312e-01 -2.89946632e-02 -3.67224065e-03\n",
      "  2.92774588e-01 -1.42456618e-01 -2.35859483e-01  1.08634426e-02\n",
      "  1.37161617e-01  2.92298382e-01 -1.94043794e-01 -8.23623017e-02\n",
      "  5.12549481e-02 -2.37099359e-01  2.95611068e-01  6.88652793e-02\n",
      "  1.19697706e-01  1.36393897e-01 -9.69231032e-02 -2.26465052e-03\n",
      "  1.87501948e-01  1.05860925e-01  1.89023784e-01  1.59320175e-02\n",
      " -1.08506920e-01  5.95624482e-02  1.55470780e-01  1.95300452e-01\n",
      "  2.58099924e-01 -2.87418882e-01  3.02480199e-01 -8.35237401e-02\n",
      " -2.49108560e-01  3.15570905e-01 -4.30138582e-02 -2.39953026e-01\n",
      " -5.51170557e-02 -2.20605118e-01 -2.18066670e-01  1.64716963e-01\n",
      "  5.98830867e-02  1.12925109e-01  1.14549125e-02 -1.58647262e-01\n",
      " -1.64611760e-01  4.26711851e-02 -1.43870843e-01 -1.01331820e-01\n",
      "  2.22318151e-02 -2.47437807e-02  7.23414567e-02 -1.72082649e-01\n",
      "  1.11845868e-01  1.64608895e-01  2.92443036e-01  2.66827592e-01\n",
      "  2.60126807e-01 -1.29193092e-01  1.49039574e-01  1.86622955e-01\n",
      "  3.46092331e-02 -5.94294811e-02  3.14877129e-01 -2.46784783e-01\n",
      " -2.00731282e-01 -8.19431160e-03  1.55727525e-01 -2.89622383e-01\n",
      "  2.95593718e-01  3.08252606e-01 -7.53717300e-03  1.58991903e-01\n",
      "  9.16444182e-02 -6.24991054e-02 -8.22477474e-02 -1.53928547e-01\n",
      "  2.90773732e-01  4.02350112e-02 -2.50716984e-01 -2.31148455e-01\n",
      " -3.11915017e-01 -1.90605247e-01 -5.61371320e-03  3.10759352e-01\n",
      "  1.38060543e-02 -1.21239537e-01 -2.69804753e-01 -1.11048152e-02\n",
      " -1.82082449e-01  1.37071453e-02  1.36285273e-01  1.08439259e-02\n",
      "  1.72057310e-01 -9.61952188e-02  2.90875259e-01 -6.83760729e-02\n",
      "  1.51843647e-01  2.56781604e-01 -2.82987139e-01 -2.66433498e-01\n",
      "  8.41176091e-02 -2.83699918e-01  3.10163357e-01 -1.00261535e-01\n",
      "  2.91223838e-01 -2.92634273e-01 -2.62167813e-01  2.42415032e-01\n",
      "  1.23722921e-01 -3.06321800e-01  1.79861451e-01  1.82883635e-01\n",
      "  8.37516263e-04  1.92101992e-02 -5.23486589e-02 -1.05900303e-01\n",
      "  2.72280940e-03  7.15062248e-03  1.66397956e-01  1.93510724e-01\n",
      "  1.92795267e-01 -2.53607611e-01 -2.79205192e-01 -9.40200731e-02\n",
      "  1.00108291e-01 -1.72910509e-01  2.15506731e-01  2.48127086e-02\n",
      "  2.85051405e-02 -1.98511463e-01  1.51443113e-01  7.23219307e-02\n",
      " -3.10760459e-01  1.57833102e-01 -1.50493847e-01 -2.61838494e-01\n",
      " -2.99838304e-01 -8.58331767e-02 -2.86099132e-01 -1.96376625e-01\n",
      "  2.02743315e-01  1.67255000e-01  1.27284958e-01 -4.72681111e-02\n",
      "  1.98595925e-01  1.90542998e-01 -2.03393186e-01  2.01190409e-01\n",
      "  1.26613743e-01  1.06853738e-01  2.64328695e-02 -2.07763906e-01\n",
      "  3.43046622e-03 -1.83660659e-01  3.16087328e-01 -3.09210398e-01\n",
      " -6.74741372e-02 -1.06245572e-02 -2.43038004e-01 -6.10848552e-02\n",
      "  1.06307807e-01  8.06928367e-02  3.94461859e-02  1.40024369e-01\n",
      " -1.60832882e-01 -1.68376970e-01 -5.13062514e-02  3.05510014e-01\n",
      " -1.14306055e-01  2.62971717e-01  2.83336759e-01  1.81061200e-01\n",
      "  2.41885959e-01  2.29769553e-02  2.80080218e-01  3.66927562e-02\n",
      " -4.51062537e-02 -2.90319898e-01  1.90009171e-01  1.13537503e-01\n",
      "  2.02200798e-01 -1.49892544e-01 -2.58257277e-02  1.46232045e-01\n",
      " -2.29536975e-01 -3.01257514e-01  2.56014124e-02  2.75502121e-01\n",
      " -4.12969070e-02 -1.32238777e-01  2.23802633e-01 -1.02027867e-02\n",
      " -1.78425908e-01 -2.67719563e-01 -2.63793305e-01  1.59945157e-01\n",
      " -5.70533008e-02 -2.11840709e-01  4.43751893e-02 -2.77072529e-01\n",
      "  5.61304665e-02  2.56388573e-01 -3.00872423e-01  8.33847106e-02\n",
      "  2.21483868e-01  5.98985862e-02  1.02980358e-01 -2.24272493e-01\n",
      "  6.33652227e-02  2.25136323e-01 -2.80768836e-01  2.89588139e-01\n",
      "  2.37493185e-01  1.08053553e-02  2.39454010e-01 -1.60388106e-01\n",
      "  1.98994848e-01  2.14571169e-01 -1.45483784e-01  1.82217719e-01\n",
      " -1.33065384e-01 -9.64430603e-02  2.97618864e-01 -4.00116163e-02\n",
      "  2.44263791e-01 -2.00108277e-01  7.01706423e-02 -2.64490326e-01\n",
      "  1.91152556e-01 -2.85362721e-01  5.33108052e-03  1.01483976e-01\n",
      " -1.59038760e-02 -3.08226273e-01  1.42239254e-01 -3.93452459e-02\n",
      " -2.13486668e-01  1.25481525e-01  1.75941694e-01 -2.78213574e-01\n",
      "  1.88056996e-01  3.23971320e-02 -2.96306158e-01 -8.88786925e-02\n",
      " -1.12384283e-01  1.92605986e-01  2.81852038e-01  1.41843732e-01\n",
      "  6.42359994e-02  1.50931648e-01  1.53010683e-01 -2.97999320e-01\n",
      "  4.04098800e-02  2.46514999e-01  2.87317774e-02 -1.10027235e-01\n",
      "  3.13036694e-01  1.48022398e-02 -2.04036445e-01 -8.85544654e-02\n",
      " -2.15504145e-01  1.52959325e-01  1.98676739e-02 -1.29980247e-01\n",
      "  3.02760526e-01 -3.09772576e-01 -5.01071347e-02 -1.79491997e-01\n",
      " -1.34397997e-01  1.88926700e-02  5.25947020e-02 -1.06020662e-01\n",
      " -2.42167969e-01 -2.58096230e-01  1.41017736e-01 -2.59927900e-01\n",
      " -6.43270526e-02  1.57067968e-01  8.43448118e-02 -7.88168722e-02\n",
      "  4.54588283e-02 -2.78302881e-01 -1.41608664e-01 -1.04141283e-01\n",
      "  1.35128069e-01 -2.68078936e-01 -1.76321843e-01 -6.77282093e-03\n",
      "  2.57625636e-01  2.12409830e-01  1.25253657e-01  4.24478252e-02\n",
      "  2.01742716e-01 -2.36874519e-01 -1.58486202e-01  2.95181952e-01\n",
      " -2.08805441e-01 -2.54349836e-01 -4.06424974e-02 -2.57229899e-01\n",
      "  1.09220470e-01 -7.36337561e-02 -2.83637015e-01  5.35659899e-02\n",
      "  1.30069494e-01 -2.57854153e-01 -2.36353927e-01  2.50545994e-01\n",
      "  1.47560222e-01  2.39470621e-01 -1.81628405e-01 -1.94630133e-01\n",
      "  5.67161752e-02  9.84670511e-02  1.46760632e-01 -1.08287770e-02\n",
      "  6.47566052e-02 -1.72589617e-01 -1.31049470e-01  2.59408113e-01\n",
      "  2.09837394e-01 -2.12483483e-01 -2.85956661e-01 -4.19437718e-02\n",
      " -2.84870421e-01 -2.71382901e-01  3.05059059e-01  2.74181559e-01\n",
      " -2.41748171e-01 -3.07323151e-01 -3.78135555e-02  1.86763254e-01\n",
      "  2.94259903e-01 -1.36379107e-01 -2.89918768e-01  1.93667856e-01\n",
      "  1.95141406e-01 -1.51967201e-01  3.04117146e-01 -1.33575586e-01\n",
      " -1.32613299e-01  2.48247865e-02 -6.83493580e-02 -6.30948250e-02\n",
      "  1.31733210e-02  4.08854779e-02 -1.50173147e-01  8.38488450e-02\n",
      " -1.09873672e-01 -1.49693627e-01  2.39083281e-01  3.05470719e-01\n",
      " -2.37351720e-02 -1.11292781e-01 -1.30371927e-01  2.05372585e-01\n",
      "  3.81765950e-02  4.56588355e-02  1.97183025e-01  2.94751495e-01\n",
      "  6.51806894e-03  1.66186487e-01  1.94798374e-01  2.66310299e-01\n",
      " -3.12365807e-01 -2.02117740e-01 -8.79610344e-03  2.57842202e-01\n",
      "  1.75361677e-01  2.83607096e-01  5.57089352e-02  4.90301504e-02\n",
      " -2.75344329e-02 -1.36433453e-01 -1.97582039e-01  3.47060889e-02\n",
      "  2.32936898e-01 -1.75574700e-01  2.69264313e-01 -3.37517030e-02\n",
      "  2.30456447e-01 -1.34715018e-01  4.97957195e-02  4.47514258e-02\n",
      "  2.14363644e-01 -2.23119257e-01 -1.89155014e-01 -1.20856645e-02\n",
      "  3.07505058e-01  1.83739445e-01 -2.64595723e-01 -6.78227886e-02\n",
      "  4.11471890e-02  2.08160109e-01 -1.22749091e-01  6.40273808e-02\n",
      "  2.53817185e-01  2.88994740e-01  2.34962644e-01  1.82023673e-02\n",
      "  2.45478378e-02 -4.78519928e-02  1.02639616e-01  2.68482780e-01\n",
      "  7.65709229e-02  3.27796680e-02 -4.98088311e-03 -1.21513359e-01\n",
      " -9.98275475e-02 -3.11791910e-01  6.93252461e-02  7.23716451e-02\n",
      "  5.83550830e-02 -3.01423738e-01  2.70927930e-02  1.71500452e-02\n",
      " -2.40986750e-02  2.11637085e-03 -1.52701473e-01 -2.96665836e-01\n",
      " -1.04702033e-01  9.59247246e-02 -2.30951030e-01 -3.04595457e-01\n",
      " -1.59182755e-01 -2.86126556e-01  1.56585033e-02  1.35036349e-01\n",
      "  1.43877637e-01 -9.12194250e-02  2.42281991e-02  6.82000390e-02\n",
      " -4.72287443e-02  3.09953760e-01  3.13678194e-01  1.28930967e-01\n",
      " -2.86569430e-01  2.46571132e-01 -1.45312888e-01  2.75496275e-02\n",
      "  2.35614791e-01 -1.49720548e-01 -1.87839132e-01 -2.05631106e-01\n",
      " -1.07793483e-01 -2.97227115e-01  1.40735580e-01  2.87797478e-01]\n"
     ]
    }
   ],
   "source": [
    "# pseudocode for xavier weight initialization\n",
    "\n",
    "m = 10  #number of sample \n",
    "\n",
    "lower , upper = -(1.0 / np.sqrt(m)), (1.0 / np.sqrt(m)) # calculate the range for the weights\n",
    "\n",
    "print (lower , upper ) # summarize the range\n",
    "\n",
    "numbers = np.random.rand(1000) # generate random numbers, randomly pick weights within this range\n",
    "scaled = lower + numbers * ( upper - lower )\n",
    "print ( scaled )"
   ]
  },
  {
   "cell_type": "code",
   "execution_count": 44,
   "id": "b31abef5",
   "metadata": {},
   "outputs": [],
   "source": [
    "# pseudocode for momentum\n",
    "alpha = 0.01       # Learning rate\n",
    "grad = 0.1         # Example gradient value\n",
    "momentum = 0.9     # Momentum coefficient\n",
    "theta = 1.0        # Initial parameter value\n",
    "prev_step = 0.0    # Initial previous step\n",
    "\n",
    "def update():\n",
    "    step = alpha * grad\n",
    "    theta = theta - step + momentum * prev_step\n",
    "    prev_step = step"
   ]
  },
  {
   "cell_type": "markdown",
   "id": "1e57d380",
   "metadata": {},
   "source": [
    "## Experiment"
   ]
  },
  {
   "cell_type": "code",
   "execution_count": 45,
   "id": "dbc0c29d",
   "metadata": {},
   "outputs": [],
   "source": [
    "#helper function for looping classnames\n",
    "import sys\n",
    "\n",
    "def str_to_class(classname):\n",
    "    return getattr(sys.modules[__name__], classname)"
   ]
  },
  {
   "cell_type": "code",
   "execution_count": 46,
   "id": "86f87170",
   "metadata": {},
   "outputs": [
    {
     "name": "stderr",
     "output_type": "stream",
     "text": [
      "2025/09/09 20:57:05 WARNING mlflow.models.model: `artifact_path` is deprecated. Please use `name` instead.\n"
     ]
    },
    {
     "name": "stdout",
     "output_type": "stream",
     "text": [
      "===== Ridge =====\n",
      "Test MSE: 0.2926055793946794\n",
      "Test R²: 0.5841230055875377\n"
     ]
    },
    {
     "name": "stderr",
     "output_type": "stream",
     "text": [
      "2025/09/09 20:57:09 WARNING mlflow.models.model: `artifact_path` is deprecated. Please use `name` instead.\n"
     ]
    },
    {
     "name": "stdout",
     "output_type": "stream",
     "text": [
      "===== Lasso =====\n",
      "Test MSE: 0.3199573840235364\n",
      "Test R²: 0.5452481955981395\n"
     ]
    },
    {
     "name": "stderr",
     "output_type": "stream",
     "text": [
      "2025/09/09 20:57:11 WARNING mlflow.models.model: `artifact_path` is deprecated. Please use `name` instead.\n"
     ]
    },
    {
     "name": "stdout",
     "output_type": "stream",
     "text": [
      "===== ElasticNet =====\n",
      "Test MSE: 0.30455658003822955\n",
      "Test R²: 0.5671371837924\n"
     ]
    }
   ],
   "source": [
    "import mlflow\n",
    "from sklearn.linear_model import Ridge, Lasso, ElasticNet\n",
    "from sklearn.metrics import mean_squared_error, r2_score\n",
    "import numpy as np\n",
    "\n",
    "# Ensure y_train is a NumPy array to avoid indexing issues\n",
    "y_train = np.array(y_train)\n",
    "\n",
    "# Mapping for model names to classes\n",
    "def str_to_class(classname):\n",
    "    model_classes = {\n",
    "        \"Ridge\": Ridge,\n",
    "        \"Lasso\": Lasso,\n",
    "        \"ElasticNet\": ElasticNet\n",
    "    }\n",
    "    return model_classes.get(classname, None)\n",
    "\n",
    "# Regularization models to run\n",
    "regs = [\"Ridge\", \"Lasso\", \"ElasticNet\"]\n",
    "\n",
    "for reg in regs:\n",
    "    # Correct parameters for Ridge, Lasso, ElasticNet\n",
    "    params = {\"alpha\": 0.1}  # Regularization strength\n",
    "\n",
    "    # Start MLflow run\n",
    "    mlflow.start_run(run_name=f\"alpha-{params['alpha']}-reg-{reg}\", nested=True)\n",
    "    print(\"=\" * 5, reg, \"=\" * 5)\n",
    "\n",
    "    # Initialize and train the model\n",
    "    type_of_regression = str_to_class(reg)\n",
    "    if type_of_regression is None:\n",
    "        print(f\"Unknown regression type: {reg}\")\n",
    "        continue\n",
    "\n",
    "    model = type_of_regression(**params)\n",
    "    model.fit(X_train, y_train)\n",
    "\n",
    "    # Predictions\n",
    "    yhat = model.predict(X_test)\n",
    "\n",
    "    # Metrics\n",
    "    mse = mean_squared_error(y_test, yhat)\n",
    "    r2_value = r2_score(y_test, yhat)\n",
    "\n",
    "    # Log metrics\n",
    "    print(\"Test MSE:\", mse)\n",
    "    mlflow.log_metric(key=\"test_mse\", value=mse)\n",
    "\n",
    "    print(\"Test R²:\", r2_value)\n",
    "    mlflow.log_metric(key=\"test_r2\", value=r2_value)  # Corrected the key here\n",
    "\n",
    "    # Log the model\n",
    "    signature = mlflow.models.infer_signature(X_train, model.predict(X_train))\n",
    "    mlflow.sklearn.log_model(model, artifact_path='model', signature=signature)\n",
    "\n",
    "    # End MLflow run\n",
    "    mlflow.end_run()"
   ]
  },
  {
   "cell_type": "markdown",
   "id": "fa67aed0",
   "metadata": {},
   "source": [
    "Cross Validation for Linear Regression, Ridge, Lasso, Polynomial Regression"
   ]
  },
  {
   "cell_type": "code",
   "execution_count": 47,
   "id": "f7eaec7f",
   "metadata": {},
   "outputs": [
    {
     "name": "stdout",
     "output_type": "stream",
     "text": [
      "📊 Linear Regression:\n",
      "  - Cross-Validation MSE: 0.2947\n",
      "  - Cross-Validation R²:  0.5799\n",
      "\n",
      "📊 Ridge:\n",
      "  - Cross-Validation MSE: 0.2947\n",
      "  - Cross-Validation R²:  0.5799\n",
      "\n",
      "📊 Lasso:\n",
      "  - Cross-Validation MSE: 0.3259\n",
      "  - Cross-Validation R²:  0.5354\n",
      "\n",
      "📊 Polynomial Regression:\n",
      "  - Cross-Validation MSE: 0.2841\n",
      "  - Cross-Validation R²:  0.5951\n",
      "\n"
     ]
    }
   ],
   "source": [
    "from sklearn.linear_model import Ridge, Lasso, LinearRegression\n",
    "from sklearn.preprocessing import PolynomialFeatures\n",
    "from sklearn.pipeline import make_pipeline\n",
    "from sklearn.model_selection import cross_val_score\n",
    "import numpy as np\n",
    "\n",
    "# Define models\n",
    "models = {\n",
    "    \"Linear Regression\": LinearRegression(),\n",
    "    \"Ridge\": Ridge(alpha=0.1),\n",
    "    \"Lasso\": Lasso(alpha=0.1),\n",
    "    \"Polynomial Regression\": make_pipeline(PolynomialFeatures(degree=2), LinearRegression())\n",
    "}\n",
    "\n",
    "# MLflow Experiment\n",
    "mlflow.set_experiment(\"Model_Comparison\")\n",
    "\n",
    "for name, model in models.items():\n",
    "    with mlflow.start_run(run_name=name, nested=True):\n",
    "        mse_scores = cross_val_score(model, X_train, y_train, scoring=\"neg_mean_squared_error\", cv=5)\n",
    "        mse = -np.mean(mse_scores)\n",
    "\n",
    "        r2_scores = cross_val_score(model, X_train, y_train, scoring=\"r2\", cv=5)\n",
    "        r2 = np.mean(r2_scores)\n",
    "\n",
    "        mlflow.log_metric(\"Cross-Validation MSE\", mse)\n",
    "        mlflow.log_metric(\"Cross-Validation R²\", r2)\n",
    "\n",
    "        # ✅ Print Results\n",
    "        print(f\"📊 {name}:\")\n",
    "        print(f\"  - Cross-Validation MSE: {mse:.4f}\")\n",
    "        print(f\"  - Cross-Validation R²:  {r2:.4f}\\n\")\n",
    "\n",
    "        mlflow.end_run()"
   ]
  },
  {
   "cell_type": "markdown",
   "id": "7bad6901",
   "metadata": {},
   "source": [
    "Implementing with/without momentum"
   ]
  },
  {
   "cell_type": "code",
   "execution_count": 48,
   "id": "4aea38e3",
   "metadata": {},
   "outputs": [
    {
     "name": "stdout",
     "output_type": "stream",
     "text": [
      "📊 No Momentum:\n",
      "  - MSE: 0.3018\n",
      "  - R²:  0.5603\n",
      "\n",
      "📊 With Momentum (Averaging):\n",
      "  - MSE: 0.3016\n",
      "  - R²:  0.5691\n",
      "\n"
     ]
    }
   ],
   "source": [
    "from sklearn.linear_model import SGDRegressor\n",
    "from sklearn.model_selection import cross_val_score\n",
    "import mlflow\n",
    "import numpy as np\n",
    "\n",
    "# Define configurations for \"without momentum\" and \"with momentum-like effect\"\n",
    "momentum_configs = {\n",
    "    \"No Momentum\": SGDRegressor(alpha=0.1, max_iter=1000, learning_rate='constant', eta0=0.01, average=False),\n",
    "    \"With Momentum (Averaging)\": SGDRegressor(alpha=0.1, max_iter=1000, learning_rate='constant', eta0=0.01, average=True)\n",
    "}\n",
    "\n",
    "# MLflow Experiment\n",
    "mlflow.set_experiment(\"Momentum_Comparison\")\n",
    "\n",
    "for name, model in momentum_configs.items():\n",
    "    with mlflow.start_run(run_name=f\"SGD_{name.replace(' ', '_')}\",nested=True):\n",
    "        mse_scores = cross_val_score(model, X_train, y_train, scoring=\"neg_mean_squared_error\", cv=5)\n",
    "        mse = -np.mean(mse_scores)\n",
    "\n",
    "        r2_scores = cross_val_score(model, X_train, y_train, scoring=\"r2\", cv=5)\n",
    "        r2 = np.mean(r2_scores)\n",
    "\n",
    "        # Log parameters and metrics to MLflow\n",
    "        mlflow.log_param(\"Momentum\", name)\n",
    "        mlflow.log_metric(\"MSE\", mse)\n",
    "        mlflow.log_metric(\"R²\", r2)\n",
    "\n",
    "        # ✅ Print Results\n",
    "        print(f\"📊 {name}:\")\n",
    "        print(f\"  - MSE: {mse:.4f}\")\n",
    "        print(f\"  - R²:  {r2:.4f}\\n\")\n",
    "\n",
    "        mlflow.end_run()"
   ]
  },
  {
   "cell_type": "markdown",
   "id": "17ee9162",
   "metadata": {},
   "source": [
    "Implementing Stochastic, Mini-Batch, and Batch Gradient Descent"
   ]
  },
  {
   "cell_type": "code",
   "execution_count": 49,
   "id": "dd950d5c",
   "metadata": {},
   "outputs": [
    {
     "name": "stdout",
     "output_type": "stream",
     "text": [
      "📊 Stochastic (5-Fold Cross-Validation):\n",
      "  - Average MSE: 0.2997\n",
      "  - Average R²:  0.5722\n",
      "\n",
      "📊 Mini-Batch (5-Fold Cross-Validation):\n",
      "  - Average MSE: 0.3015\n",
      "  - Average R²:  0.5695\n",
      "\n",
      "📊 Batch (5-Fold Cross-Validation):\n",
      "  - Average MSE: 0.2987\n",
      "  - Average R²:  0.5737\n",
      "\n"
     ]
    }
   ],
   "source": [
    "from sklearn.utils import shuffle\n",
    "from sklearn.metrics import mean_squared_error, r2_score\n",
    "\n",
    "# Set Cross-Validation (5 folds)\n",
    "cv = KFold(n_splits=5, shuffle=True, random_state=42)\n",
    "\n",
    "# Custom Training Function for Gradient Descent Variants\n",
    "def custom_train(X_train, y_train, batch_size):\n",
    "    model = SGDRegressor(max_iter=1, learning_rate='constant', eta0=0.01, warm_start=True)\n",
    "    for epoch in range(50):\n",
    "        X_shuffled, y_shuffled = shuffle(X_train, y_train)\n",
    "        for i in range(0, X_train.shape[0], batch_size):\n",
    "            X_batch = X_shuffled[i:i + batch_size]\n",
    "            y_batch = y_shuffled[i:i + batch_size]\n",
    "            model.partial_fit(X_batch, y_batch)\n",
    "    return model\n",
    "\n",
    "# Gradient Descent Methods with Corresponding Batch Sizes\n",
    "methods = {\n",
    "    \"Stochastic\": 1,                      # Stochastic Gradient Descent (1 sample per update)\n",
    "    \"Mini-Batch\": 64,                     # Mini-Batch Gradient Descent (64 samples per update)\n",
    "    \"Batch\": X_train.shape[0]             # Batch Gradient Descent (full dataset per update)\n",
    "}\n",
    "\n",
    "# MLflow Experiment Setup\n",
    "mlflow.set_experiment(\"GD_Cross_Validation_Comparison\")\n",
    "\n",
    "# Run Cross-Validation for Each Method\n",
    "for method_name, batch_size in methods.items():\n",
    "    with mlflow.start_run(run_name=method_name,nested=True):\n",
    "        mse_scores = []\n",
    "        r2_scores = []\n",
    "\n",
    "        # 5-Fold Cross-Validation Loop\n",
    "        for train_index, val_index in cv.split(X_train):\n",
    "            X_train_cv, X_val_cv = X_train[train_index], X_train[val_index]\n",
    "            y_train_cv, y_val_cv = y_train[train_index], y_train[val_index]\n",
    "\n",
    "            # Train the Model with the Current Batch Size\n",
    "            model = custom_train(X_train_cv, y_train_cv, batch_size)\n",
    "\n",
    "            # Predict and Evaluate on Validation Set\n",
    "            y_pred = model.predict(X_val_cv)\n",
    "            mse = mean_squared_error(y_val_cv, y_pred)\n",
    "            r2 = r2_score(y_val_cv, y_pred)\n",
    "\n",
    "            mse_scores.append(mse)\n",
    "            r2_scores.append(r2)\n",
    "\n",
    "        # Average MSE and R² Across 5 Folds\n",
    "        avg_mse = np.mean(mse_scores)\n",
    "        avg_r2 = np.mean(r2_scores)\n",
    "\n",
    "        # Log Metrics to MLflow\n",
    "        mlflow.log_param(\"Method\", method_name)\n",
    "        mlflow.log_param(\"Batch Size\", batch_size)\n",
    "        mlflow.log_metric(\"Cross-Validation MSE\", avg_mse)\n",
    "        mlflow.log_metric(\"Cross-Validation R²\", avg_r2)\n",
    "\n",
    "        # Print Results\n",
    "        print(f\"📊 {method_name} (5-Fold Cross-Validation):\")\n",
    "        print(f\"  - Average MSE: {avg_mse:.4f}\")\n",
    "        print(f\"  - Average R²:  {avg_r2:.4f}\\n\")\n",
    "\n",
    "        mlflow.end_run()"
   ]
  },
  {
   "cell_type": "markdown",
   "id": "b7279b1e",
   "metadata": {},
   "source": [
    "Implementing Zero and Xavier Weight Initialization\n"
   ]
  },
  {
   "cell_type": "code",
   "execution_count": 50,
   "id": "48735f19",
   "metadata": {},
   "outputs": [
    {
     "name": "stdout",
     "output_type": "stream",
     "text": [
      "📊 Zero Initialization:\n",
      "  - MSE: 0.2932\n",
      "  - R²:  0.5832\n",
      "\n",
      "📊 Xavier Initialization:\n",
      "  - MSE: 0.2926\n",
      "  - R²:  0.5841\n",
      "\n"
     ]
    }
   ],
   "source": [
    "def initialize_weights(shape, method=\"xavier\"):\n",
    "    if method == \"zero\":\n",
    "        return np.zeros(shape)\n",
    "    elif method == \"xavier\":\n",
    "        limit = np.sqrt(1 / shape)\n",
    "        return np.random.uniform(-limit, limit, shape)\n",
    "    else:\n",
    "        raise ValueError(\"Invalid Initialization Method\")\n",
    "\n",
    "initializations = [\"zero\", \"xavier\"]\n",
    "\n",
    "for init in initializations:\n",
    "    with mlflow.start_run(run_name=f\"Init_{init}\",nested=True):\n",
    "        weights = initialize_weights(X_train.shape[1], method=init)\n",
    "\n",
    "        model = SGDRegressor(max_iter=1000, eta0=0.01)\n",
    "        model.fit(X_train, y_train)\n",
    "\n",
    "        y_pred = model.predict(X_test)\n",
    "        mse = np.mean((y_test - y_pred) ** 2)\n",
    "        r2 = model.score(X_test, y_test)\n",
    "\n",
    "        mlflow.log_param(\"Initialization\", init)\n",
    "        mlflow.log_metric(\"MSE\", mse)\n",
    "        mlflow.log_metric(\"R²\", r2)\n",
    "\n",
    "        # ✅ Print Results\n",
    "        print(f\"📊 {init.capitalize()} Initialization:\")\n",
    "        print(f\"  - MSE: {mse:.4f}\")\n",
    "        print(f\"  - R²:  {r2:.4f}\\n\")\n",
    "\n",
    "        mlflow.end_run()"
   ]
  },
  {
   "cell_type": "markdown",
   "id": "950ff09c",
   "metadata": {},
   "source": [
    "Testing with Learning Rates 0.01, 0.001, and 0.0001"
   ]
  },
  {
   "cell_type": "code",
   "execution_count": 51,
   "id": "090ffbf0",
   "metadata": {},
   "outputs": [
    {
     "name": "stdout",
     "output_type": "stream",
     "text": [
      "📊 Learning Rate 0.01:\n",
      "  - MSE: 0.3001\n",
      "  - R²:  0.5701\n",
      "\n",
      "📊 Learning Rate 0.001:\n",
      "  - MSE: 0.2948\n",
      "  - R²:  0.5788\n",
      "\n",
      "📊 Learning Rate 0.0001:\n",
      "  - MSE: 0.2945\n",
      "  - R²:  0.5797\n",
      "\n"
     ]
    }
   ],
   "source": [
    "learning_rates = [0.01, 0.001, 0.0001]\n",
    "\n",
    "for lr in learning_rates:\n",
    "    with mlflow.start_run(run_name=f\"Learning_Rate_{lr}\",nested=True):\n",
    "        model = SGDRegressor(max_iter=1000, learning_rate='constant', eta0=lr)\n",
    "\n",
    "        mse_scores = cross_val_score(model, X_train, y_train, scoring=\"neg_mean_squared_error\", cv=cv)\n",
    "        mse = -np.mean(mse_scores)\n",
    "\n",
    "        r2_scores = cross_val_score(model, X_train, y_train, scoring=\"r2\", cv=cv)\n",
    "        r2 = np.mean(r2_scores)\n",
    "\n",
    "        mlflow.log_param(\"Learning Rate\", lr)\n",
    "        mlflow.log_metric(\"MSE\", mse)\n",
    "        mlflow.log_metric(\"R²\", r2)\n",
    "\n",
    "        # ✅ Print Results\n",
    "        print(f\"📊 Learning Rate {lr}:\")\n",
    "        print(f\"  - MSE: {mse:.4f}\")\n",
    "        print(f\"  - R²:  {r2:.4f}\\n\")\n",
    "\n",
    "        mlflow.end_run()"
   ]
  },
  {
   "cell_type": "markdown",
   "id": "1dd7ad30",
   "metadata": {},
   "source": [
    "Logging All Experiments in MLflow"
   ]
  },
  {
   "cell_type": "code",
   "execution_count": 52,
   "id": "0eb4d0f8",
   "metadata": {},
   "outputs": [
    {
     "name": "stdout",
     "output_type": "stream",
     "text": [
      "Running Ridge with momentum 0.0, method sto, init zero, lr 0.01\n",
      "Running Ridge with momentum 0.0, method sto, init zero, lr 0.001\n",
      "Running Ridge with momentum 0.0, method sto, init zero, lr 0.0001\n",
      "Running Ridge with momentum 0.0, method sto, init xavier, lr 0.01\n",
      "Running Ridge with momentum 0.0, method sto, init xavier, lr 0.001\n",
      "Running Ridge with momentum 0.0, method sto, init xavier, lr 0.0001\n",
      "Running Ridge with momentum 0.0, method mini, init zero, lr 0.01\n",
      "Running Ridge with momentum 0.0, method mini, init zero, lr 0.001\n",
      "Running Ridge with momentum 0.0, method mini, init zero, lr 0.0001\n",
      "Running Ridge with momentum 0.0, method mini, init xavier, lr 0.01\n",
      "Running Ridge with momentum 0.0, method mini, init xavier, lr 0.001\n",
      "Running Ridge with momentum 0.0, method mini, init xavier, lr 0.0001\n",
      "Running Ridge with momentum 0.0, method batch, init zero, lr 0.01\n",
      "Running Ridge with momentum 0.0, method batch, init zero, lr 0.001\n",
      "Running Ridge with momentum 0.0, method batch, init zero, lr 0.0001\n",
      "Running Ridge with momentum 0.0, method batch, init xavier, lr 0.01\n",
      "Running Ridge with momentum 0.0, method batch, init xavier, lr 0.001\n",
      "Running Ridge with momentum 0.0, method batch, init xavier, lr 0.0001\n",
      "Running Ridge with momentum 0.9, method sto, init zero, lr 0.01\n",
      "Running Ridge with momentum 0.9, method sto, init zero, lr 0.001\n",
      "Running Ridge with momentum 0.9, method sto, init zero, lr 0.0001\n",
      "Running Ridge with momentum 0.9, method sto, init xavier, lr 0.01\n",
      "Running Ridge with momentum 0.9, method sto, init xavier, lr 0.001\n",
      "Running Ridge with momentum 0.9, method sto, init xavier, lr 0.0001\n",
      "Running Ridge with momentum 0.9, method mini, init zero, lr 0.01\n",
      "Running Ridge with momentum 0.9, method mini, init zero, lr 0.001\n",
      "Running Ridge with momentum 0.9, method mini, init zero, lr 0.0001\n",
      "Running Ridge with momentum 0.9, method mini, init xavier, lr 0.01\n",
      "Running Ridge with momentum 0.9, method mini, init xavier, lr 0.001\n",
      "Running Ridge with momentum 0.9, method mini, init xavier, lr 0.0001\n",
      "Running Ridge with momentum 0.9, method batch, init zero, lr 0.01\n",
      "Running Ridge with momentum 0.9, method batch, init zero, lr 0.001\n",
      "Running Ridge with momentum 0.9, method batch, init zero, lr 0.0001\n",
      "Running Ridge with momentum 0.9, method batch, init xavier, lr 0.01\n",
      "Running Ridge with momentum 0.9, method batch, init xavier, lr 0.001\n",
      "Running Ridge with momentum 0.9, method batch, init xavier, lr 0.0001\n",
      "Running Lasso with momentum 0.0, method sto, init zero, lr 0.01\n",
      "Running Lasso with momentum 0.0, method sto, init zero, lr 0.001\n",
      "Running Lasso with momentum 0.0, method sto, init zero, lr 0.0001\n",
      "Running Lasso with momentum 0.0, method sto, init xavier, lr 0.01\n",
      "Running Lasso with momentum 0.0, method sto, init xavier, lr 0.001\n",
      "Running Lasso with momentum 0.0, method sto, init xavier, lr 0.0001\n",
      "Running Lasso with momentum 0.0, method mini, init zero, lr 0.01\n",
      "Running Lasso with momentum 0.0, method mini, init zero, lr 0.001\n",
      "Running Lasso with momentum 0.0, method mini, init zero, lr 0.0001\n",
      "Running Lasso with momentum 0.0, method mini, init xavier, lr 0.01\n",
      "Running Lasso with momentum 0.0, method mini, init xavier, lr 0.001\n",
      "Running Lasso with momentum 0.0, method mini, init xavier, lr 0.0001\n",
      "Running Lasso with momentum 0.0, method batch, init zero, lr 0.01\n",
      "Running Lasso with momentum 0.0, method batch, init zero, lr 0.001\n",
      "Running Lasso with momentum 0.0, method batch, init zero, lr 0.0001\n",
      "Running Lasso with momentum 0.0, method batch, init xavier, lr 0.01\n",
      "Running Lasso with momentum 0.0, method batch, init xavier, lr 0.001\n",
      "Running Lasso with momentum 0.0, method batch, init xavier, lr 0.0001\n",
      "Running Lasso with momentum 0.9, method sto, init zero, lr 0.01\n",
      "Running Lasso with momentum 0.9, method sto, init zero, lr 0.001\n",
      "Running Lasso with momentum 0.9, method sto, init zero, lr 0.0001\n",
      "Running Lasso with momentum 0.9, method sto, init xavier, lr 0.01\n",
      "Running Lasso with momentum 0.9, method sto, init xavier, lr 0.001\n",
      "Running Lasso with momentum 0.9, method sto, init xavier, lr 0.0001\n",
      "Running Lasso with momentum 0.9, method mini, init zero, lr 0.01\n",
      "Running Lasso with momentum 0.9, method mini, init zero, lr 0.001\n",
      "Running Lasso with momentum 0.9, method mini, init zero, lr 0.0001\n",
      "Running Lasso with momentum 0.9, method mini, init xavier, lr 0.01\n",
      "Running Lasso with momentum 0.9, method mini, init xavier, lr 0.001\n",
      "Running Lasso with momentum 0.9, method mini, init xavier, lr 0.0001\n",
      "Running Lasso with momentum 0.9, method batch, init zero, lr 0.01\n",
      "Running Lasso with momentum 0.9, method batch, init zero, lr 0.001\n",
      "Running Lasso with momentum 0.9, method batch, init zero, lr 0.0001\n",
      "Running Lasso with momentum 0.9, method batch, init xavier, lr 0.01\n",
      "Running Lasso with momentum 0.9, method batch, init xavier, lr 0.001\n",
      "Running Lasso with momentum 0.9, method batch, init xavier, lr 0.0001\n",
      "Running ElasticNet with momentum 0.0, method sto, init zero, lr 0.01\n",
      "Running ElasticNet with momentum 0.0, method sto, init zero, lr 0.001\n",
      "Running ElasticNet with momentum 0.0, method sto, init zero, lr 0.0001\n",
      "Running ElasticNet with momentum 0.0, method sto, init xavier, lr 0.01\n",
      "Running ElasticNet with momentum 0.0, method sto, init xavier, lr 0.001\n",
      "Running ElasticNet with momentum 0.0, method sto, init xavier, lr 0.0001\n",
      "Running ElasticNet with momentum 0.0, method mini, init zero, lr 0.01\n",
      "Running ElasticNet with momentum 0.0, method mini, init zero, lr 0.001\n",
      "Running ElasticNet with momentum 0.0, method mini, init zero, lr 0.0001\n",
      "Running ElasticNet with momentum 0.0, method mini, init xavier, lr 0.01\n",
      "Running ElasticNet with momentum 0.0, method mini, init xavier, lr 0.001\n",
      "Running ElasticNet with momentum 0.0, method mini, init xavier, lr 0.0001\n",
      "Running ElasticNet with momentum 0.0, method batch, init zero, lr 0.01\n",
      "Running ElasticNet with momentum 0.0, method batch, init zero, lr 0.001\n",
      "Running ElasticNet with momentum 0.0, method batch, init zero, lr 0.0001\n",
      "Running ElasticNet with momentum 0.0, method batch, init xavier, lr 0.01\n",
      "Running ElasticNet with momentum 0.0, method batch, init xavier, lr 0.001\n",
      "Running ElasticNet with momentum 0.0, method batch, init xavier, lr 0.0001\n",
      "Running ElasticNet with momentum 0.9, method sto, init zero, lr 0.01\n",
      "Running ElasticNet with momentum 0.9, method sto, init zero, lr 0.001\n",
      "Running ElasticNet with momentum 0.9, method sto, init zero, lr 0.0001\n",
      "Running ElasticNet with momentum 0.9, method sto, init xavier, lr 0.01\n",
      "Running ElasticNet with momentum 0.9, method sto, init xavier, lr 0.001\n",
      "Running ElasticNet with momentum 0.9, method sto, init xavier, lr 0.0001\n",
      "Running ElasticNet with momentum 0.9, method mini, init zero, lr 0.01\n",
      "Running ElasticNet with momentum 0.9, method mini, init zero, lr 0.001\n",
      "Running ElasticNet with momentum 0.9, method mini, init zero, lr 0.0001\n",
      "Running ElasticNet with momentum 0.9, method mini, init xavier, lr 0.01\n",
      "Running ElasticNet with momentum 0.9, method mini, init xavier, lr 0.001\n",
      "Running ElasticNet with momentum 0.9, method mini, init xavier, lr 0.0001\n",
      "Running ElasticNet with momentum 0.9, method batch, init zero, lr 0.01\n",
      "Running ElasticNet with momentum 0.9, method batch, init zero, lr 0.001\n",
      "Running ElasticNet with momentum 0.9, method batch, init zero, lr 0.0001\n",
      "Running ElasticNet with momentum 0.9, method batch, init xavier, lr 0.01\n",
      "Running ElasticNet with momentum 0.9, method batch, init xavier, lr 0.001\n",
      "Running ElasticNet with momentum 0.9, method batch, init xavier, lr 0.0001\n",
      "Running PolynomialRegression with momentum 0.0, method sto, init zero, lr 0.01\n",
      "Running PolynomialRegression with momentum 0.0, method sto, init zero, lr 0.001\n",
      "Running PolynomialRegression with momentum 0.0, method sto, init zero, lr 0.0001\n",
      "Running PolynomialRegression with momentum 0.0, method sto, init xavier, lr 0.01\n",
      "Running PolynomialRegression with momentum 0.0, method sto, init xavier, lr 0.001\n",
      "Running PolynomialRegression with momentum 0.0, method sto, init xavier, lr 0.0001\n",
      "Running PolynomialRegression with momentum 0.0, method mini, init zero, lr 0.01\n",
      "Running PolynomialRegression with momentum 0.0, method mini, init zero, lr 0.001\n",
      "Running PolynomialRegression with momentum 0.0, method mini, init zero, lr 0.0001\n",
      "Running PolynomialRegression with momentum 0.0, method mini, init xavier, lr 0.01\n",
      "Running PolynomialRegression with momentum 0.0, method mini, init xavier, lr 0.001\n",
      "Running PolynomialRegression with momentum 0.0, method mini, init xavier, lr 0.0001\n",
      "Running PolynomialRegression with momentum 0.0, method batch, init zero, lr 0.01\n",
      "Running PolynomialRegression with momentum 0.0, method batch, init zero, lr 0.001\n",
      "Running PolynomialRegression with momentum 0.0, method batch, init zero, lr 0.0001\n",
      "Running PolynomialRegression with momentum 0.0, method batch, init xavier, lr 0.01\n",
      "Running PolynomialRegression with momentum 0.0, method batch, init xavier, lr 0.001\n",
      "Running PolynomialRegression with momentum 0.0, method batch, init xavier, lr 0.0001\n",
      "Running PolynomialRegression with momentum 0.9, method sto, init zero, lr 0.01\n",
      "Running PolynomialRegression with momentum 0.9, method sto, init zero, lr 0.001\n",
      "Running PolynomialRegression with momentum 0.9, method sto, init zero, lr 0.0001\n",
      "Running PolynomialRegression with momentum 0.9, method sto, init xavier, lr 0.01\n",
      "Running PolynomialRegression with momentum 0.9, method sto, init xavier, lr 0.001\n",
      "Running PolynomialRegression with momentum 0.9, method sto, init xavier, lr 0.0001\n",
      "Running PolynomialRegression with momentum 0.9, method mini, init zero, lr 0.01\n",
      "Running PolynomialRegression with momentum 0.9, method mini, init zero, lr 0.001\n",
      "Running PolynomialRegression with momentum 0.9, method mini, init zero, lr 0.0001\n",
      "Running PolynomialRegression with momentum 0.9, method mini, init xavier, lr 0.01\n",
      "Running PolynomialRegression with momentum 0.9, method mini, init xavier, lr 0.001\n",
      "Running PolynomialRegression with momentum 0.9, method mini, init xavier, lr 0.0001\n",
      "Running PolynomialRegression with momentum 0.9, method batch, init zero, lr 0.01\n",
      "Running PolynomialRegression with momentum 0.9, method batch, init zero, lr 0.001\n",
      "Running PolynomialRegression with momentum 0.9, method batch, init zero, lr 0.0001\n",
      "Running PolynomialRegression with momentum 0.9, method batch, init xavier, lr 0.01\n",
      "Running PolynomialRegression with momentum 0.9, method batch, init xavier, lr 0.001\n",
      "Running PolynomialRegression with momentum 0.9, method batch, init xavier, lr 0.0001\n"
     ]
    }
   ],
   "source": [
    "from sklearn.linear_model import Ridge, Lasso, ElasticNet, LinearRegression\n",
    "from sklearn.preprocessing import PolynomialFeatures\n",
    "from sklearn.pipeline import make_pipeline\n",
    "import mlflow\n",
    "import numpy as np\n",
    "\n",
    "# Define valid models mapping manually instead of using str_to_class\n",
    "model_mapping = {\n",
    "    \"Ridge\": Ridge,\n",
    "    \"Lasso\": Lasso,\n",
    "    \"ElasticNet\": ElasticNet,\n",
    "    \"PolynomialRegression\": lambda: make_pipeline(PolynomialFeatures(degree=2), LinearRegression())\n",
    "}\n",
    "\n",
    "regs = [\"Ridge\", \"Lasso\", \"ElasticNet\", \"PolynomialRegression\"]\n",
    "momentums = [0.0, 0.9]  # Ignored for sklearn models but needed for custom ones\n",
    "methods = [\"sto\", \"mini\", \"batch\"]  # Ignored for sklearn models\n",
    "initializations = [\"zero\", \"xavier\"]  # Ignored for sklearn models\n",
    "learning_rates = [0.01, 0.001, 0.0001]  # Ignored for Ridge/Lasso\n",
    "\n",
    "for reg in regs:\n",
    "    for momentum in momentums:\n",
    "        for method in methods:\n",
    "            for init in initializations:\n",
    "                for lr in learning_rates:\n",
    "                    print(f\"Running {reg} with momentum {momentum}, method {method}, init {init}, lr {lr}\")\n",
    "\n",
    "                    with mlflow.start_run(run_name=f\"{reg}-momentum-{momentum}-method-{method}-init-{init}-lr-{lr}\", nested=True):\n",
    "\n",
    "                        if reg not in model_mapping:\n",
    "                            print(f\"Skipping {reg} - class not found.\")\n",
    "                            continue\n",
    "\n",
    "                        # ✅ Get model class dynamically from the dictionary\n",
    "                        model_class = model_mapping[reg]\n",
    "\n",
    "                        # ✅ Define valid parameters based on model type\n",
    "                        valid_params = {}\n",
    "                        if reg in [\"Ridge\", \"Lasso\", \"ElasticNet\"]:\n",
    "                            valid_params[\"alpha\"] = 0.1  # Regularization strength\n",
    "                        elif reg == \"PolynomialRegression\":\n",
    "                            model = model_class()  # Create pipeline\n",
    "                        else:\n",
    "                            model = model_class(**valid_params)\n",
    "\n",
    "                        model.fit(X_train, y_train)\n",
    "                        yhat = model.predict(X_test)\n",
    "\n",
    "                        mse = np.mean((yhat - y_test) ** 2)\n",
    "                        r2 = model.score(X_test, y_test)\n",
    "\n",
    "                        mlflow.log_metric(\"test_mse\", mse)\n",
    "                        mlflow.log_metric(\"test_r2\", r2)\n",
    "\n",
    "                        signature = mlflow.models.infer_signature(X_train, model.predict(X_train))\n",
    "                        mlflow.sklearn.log_model(model, name='model', signature=signature)\n"
   ]
  },
  {
   "cell_type": "markdown",
   "id": "fd72797b",
   "metadata": {},
   "source": [
    "## Testing"
   ]
  },
  {
   "cell_type": "code",
   "execution_count": 68,
   "id": "8e013651",
   "metadata": {},
   "outputs": [
    {
     "name": "stdout",
     "output_type": "stream",
     "text": [
      "📊 Performance on Test Set:\n",
      "  - MSE: 0.2722\n",
      "  - R²:  0.6132\n"
     ]
    }
   ],
   "source": [
    "# ✅ Train the best model (Polynomial Regression)\n",
    "from sklearn.pipeline import make_pipeline\n",
    "from sklearn.preprocessing import StandardScaler, PolynomialFeatures\n",
    "from sklearn.linear_model import LinearRegression\n",
    "\n",
    "X = df[[\"year\", \"mileage\", \"km_driven\", \"owner\"]]\n",
    "y = np.log(df['selling_price'])\n",
    "\n",
    "X_train, X_test, y_train, y_test = train_test_split(X, y, test_size=0.3, random_state=42)\n",
    "\n",
    "best_model = make_pipeline(\n",
    "    StandardScaler(),\n",
    "    PolynomialFeatures(degree=2),\n",
    "    LinearRegression()\n",
    ")\n",
    "best_model.fit(X_train, y_train)\n",
    "\n",
    "# ✅ Make predictions on the test set\n",
    "y_pred = best_model.predict(X_test)\n",
    "\n",
    "# ✅ Calculate MSE and R²\n",
    "mse = mean_squared_error(y_test, y_pred)\n",
    "r2 = r2_score(y_test, y_pred)\n",
    "\n",
    "# ✅ Print the results\n",
    "print(f\"📊 Performance on Test Set:\")\n",
    "print(f\"  - MSE: {mse:.4f}\")\n",
    "print(f\"  - R²:  {r2:.4f}\")"
   ]
  },
  {
   "cell_type": "code",
   "execution_count": 54,
   "id": "d2388e7d",
   "metadata": {},
   "outputs": [
    {
     "name": "stdout",
     "output_type": "stream",
     "text": [
      "[316410.88824674 637607.61422051 471883.55731619 ... 238413.29411086\n",
      " 524425.53939054 618059.87428569]\n"
     ]
    }
   ],
   "source": [
    "yhat = np.exp(yhat) #expo back \n",
    "print(yhat)"
   ]
  },
  {
   "cell_type": "markdown",
   "id": "efa3b445",
   "metadata": {},
   "source": [
    "## Analysis"
   ]
  },
  {
   "cell_type": "code",
   "execution_count": 55,
   "id": "67ed11ee",
   "metadata": {},
   "outputs": [
    {
     "data": {
      "image/png": "[encoded data removed]",
      "text/plain": [
       "<Figure size 1000x600 with 1 Axes>"
      ]
     },
     "metadata": {},
     "output_type": "display_data"
    }
   ],
   "source": [
    "import numpy as np\n",
    "import matplotlib.pyplot as plt\n",
    "\n",
    "# ✅ Extract the Linear Regression model from the pipeline\n",
    "regressor = best_model.named_steps['linearregression']\n",
    "\n",
    "# ✅ Correct this line to access the coefficients from regressor, not best_model\n",
    "feature_importance = np.abs(regressor.coef_[1:])  # Skip the first coefficient (intercept)\n",
    "\n",
    "# ✅ Use the correct feature names\n",
    "feature_names = df.columns[:-1]  # Ensure this matches the features used for training\n",
    "\n",
    "# ✅ Ensure matching lengths to prevent plotting errors\n",
    "min_length = min(len(feature_importance), len(feature_names))\n",
    "feature_importance = feature_importance[:min_length]\n",
    "feature_names = feature_names[:min_length]\n",
    "\n",
    "# ✅ Plot Feature Importance\n",
    "plt.figure(figsize=(10, 6))\n",
    "plt.barh(feature_names, feature_importance)\n",
    "plt.xlabel(\"Feature Importance (Coefficient Magnitude)\")\n",
    "plt.title(\"Feature Importance - Ridge Regression\")\n",
    "plt.grid(axis='x')\n",
    "\n",
    "# ✅ Display the plot\n",
    "plt.show()"
   ]
  },
  {
   "cell_type": "markdown",
   "id": "a69f16e0",
   "metadata": {},
   "source": [
    "## Inference"
   ]
  },
  {
   "cell_type": "code",
   "execution_count": 69,
   "id": "e6532c40",
   "metadata": {},
   "outputs": [
    {
     "name": "stdout",
     "output_type": "stream",
     "text": [
      "Model saved successfully as selling_price2.model\n"
     ]
    }
   ],
   "source": [
    "import joblib\n",
    "joblib.dump(best_model, \"selling_price2.model\")\n",
    "print(\"Model saved successfully as selling_price2.model\")"
   ]
  },
  {
   "cell_type": "code",
   "execution_count": 70,
   "id": "c859d78d",
   "metadata": {},
   "outputs": [
    {
     "name": "stdout",
     "output_type": "stream",
     "text": [
      "Raw prediction (log price): [14.18497906]\n",
      "Predicted price: 1446965.354371463\n"
     ]
    }
   ],
   "source": [
    "import pandas as pd\n",
    "import numpy as np\n",
    "import joblib\n",
    "\n",
    "model = joblib.load(\"selling_price2.model\")\n",
    "\n",
    "sample = pd.DataFrame({\n",
    "    \"year\": [2020],\n",
    "    \"mileage\": [18.5],\n",
    "    \"km_driven\": [25000],\n",
    "    \"owner\": [1]\n",
    "})\n",
    "\n",
    "raw_pred = model.predict(sample)\n",
    "print(\"Raw prediction (log price):\", raw_pred)\n",
    "print(\"Predicted price:\", np.exp(raw_pred)[0])"
   ]
  },
  {
   "cell_type": "code",
   "execution_count": 76,
   "id": "83acabb1",
   "metadata": {},
   "outputs": [
    {
     "name": "stdout",
     "output_type": "stream",
     "text": [
      "year               2014.0\n",
      "mileage              23.4\n",
      "km_driven        145500.0\n",
      "owner                 1.0\n",
      "selling_price    450000.0\n",
      "Name: 0, dtype: float64\n",
      "Raw prediction (log price): [12.90922033]\n",
      "Predicted price: 404020.2713075813\n"
     ]
    }
   ],
   "source": [
    "sample = X.iloc[[0]]  # Use first row from your training features\n",
    "raw_pred = model.predict(sample)\n",
    "print(df[[\"year\", \"mileage\", \"km_driven\", \"owner\", \"selling_price\"]].iloc[0])\n",
    "print(\"Raw prediction (log price):\", raw_pred)\n",
    "print(\"Predicted price:\", np.exp(raw_pred)[0])"
   ]
  },
  {
   "cell_type": "code",
   "execution_count": 58,
   "id": "66695e25",
   "metadata": {},
   "outputs": [
    {
     "data": {
      "text/plain": [
       "year               2014.00\n",
       "mileage              21.14\n",
       "km_driven        120000.00\n",
       "owner                 2.00\n",
       "selling_price    370000.00\n",
       "Name: 1, dtype: float64"
      ]
     },
     "execution_count": 58,
     "metadata": {},
     "output_type": "execute_result"
    }
   ],
   "source": [
    "df[['year', 'mileage', 'km_driven', 'owner', 'selling_price']].loc[1]"
   ]
  }
 ],
 "metadata": {
  "kernelspec": {
   "display_name": ".venv",
   "language": "python",
   "name": "python3"
  },
  "language_info": {
   "codemirror_mode": {
    "name": "ipython",
    "version": 3
   },
   "file_extension": ".py",
   "mimetype": "text/x-python",
   "name": "python",
   "nbconvert_exporter": "python",
   "pygments_lexer": "ipython3",
   "version": "3.13.7"
  }
 },
 "nbformat": 4,
 "nbformat_minor": 5
}
